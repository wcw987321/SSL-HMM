{
 "cells": [
  {
   "cell_type": "code",
   "execution_count": 1,
   "metadata": {},
   "outputs": [],
   "source": [
    "import numpy as np\n",
    "import torch"
   ]
  },
  {
   "cell_type": "code",
   "execution_count": 2,
   "metadata": {},
   "outputs": [],
   "source": [
    "#define some useful functions\n",
    "def generate_HMM_params(num_hidden_state, num_obs):\n",
    "    # random generate the transition matrix and observation matrix, and compute the stationary distribution\n",
    "    \n",
    "    alpha_state = np.ones(num_hidden_state)\n",
    "    alpha_obs = np.ones(num_obs) / num_obs\n",
    "    trans_mat = np.random.dirichlet(alpha_state, num_hidden_state)\n",
    "    obs_mat = np.random.dirichlet(alpha_obs, num_hidden_state)\n",
    "    tmp = np.ones((num_hidden_state + 1, num_hidden_state))\n",
    "    tmp[:-1] = np.identity(num_hidden_state) - trans_mat.T\n",
    "    tmp_v = np.zeros(num_hidden_state + 1)\n",
    "    tmp_v[-1] = 1\n",
    "    stat_dist = np.linalg.lstsq(tmp, tmp_v, rcond=None)[0]\n",
    "    return trans_mat, obs_mat, stat_dist"
   ]
  },
  {
   "cell_type": "code",
   "execution_count": 3,
   "metadata": {},
   "outputs": [],
   "source": [
    "def generate_HMM_sequences(trans_mat, obs_mat, init_dist, length, num_samples = 1):\n",
    "    # generate sample sequences from HMM\n",
    "    \n",
    "    states = np.zeros((num_samples, length))\n",
    "    obs = np.zeros((num_samples, length))\n",
    "    tmp_state = np.argmax(np.random.multinomial(1, init_dist, num_samples), axis = 1)\n",
    "    #print(tmp_state)\n",
    "    for i in range(length):\n",
    "        #print(\"i: \", i)\n",
    "        states[:, i] = tmp_state\n",
    "        for j in range(num_samples):\n",
    "            obs[j, i] = np.random.multinomial(1, obs_mat[tmp_state[j]]).argmax()\n",
    "            tmp_state[j] = np.random.multinomial(1, trans_mat[tmp_state[j]]).argmax()\n",
    "        #print(\"obs[:, i]: \", obs[:, i])\n",
    "    return states, obs"
   ]
  },
  {
   "cell_type": "code",
   "execution_count": 4,
   "metadata": {},
   "outputs": [],
   "source": [
    "def forward_compute(trans_mat, obs_mat, init_dist, obs_to_pos):\n",
    "    # compute \\sum_{h_1,...,h_{pos-1}} P(h_1,...,h_{pos},x_1,...,x_{pos-1})\n",
    "    pos = obs_to_pos.shape[0] + 1\n",
    "    num_hidden_state = trans_mat.shape[0]\n",
    "    num_obs = obs_mat.shape[1]\n",
    "    forward = np.zeros((pos, num_hidden_state))\n",
    "    forward[0] = init_dist\n",
    "    for i in range(1, pos):\n",
    "        for j in range(num_hidden_state):\n",
    "            for k in range(num_hidden_state):\n",
    "                #print(i, j, k)\n",
    "                #print(forward[i - 1, k], trans_mat[k, j], obs_mat[k, int(obs_to_pos[i - 1])])\n",
    "                forward[i, j] += forward[i - 1, k] * trans_mat[k, j] * obs_mat[k, int(obs_to_pos[i - 1])]\n",
    "    #print(\"forward: \", forward)\n",
    "    return forward[pos - 1]"
   ]
  },
  {
   "cell_type": "code",
   "execution_count": 5,
   "metadata": {},
   "outputs": [],
   "source": [
    "def backward_compute(trans_mat, obs_mat, obs_from_pos):\n",
    "    num_hidden_state = trans_mat.shape[0]\n",
    "    num_obs = obs_mat.shape[1]\n",
    "    back_length = obs_from_pos.shape[0]\n",
    "    if (back_length == 0):\n",
    "        return np.ones(num_hidden_state)\n",
    "    backward = np.zeros((back_length, num_hidden_state))\n",
    "    for j in range(num_hidden_state):\n",
    "         for k in range(num_hidden_state):\n",
    "            backward[0, j] += trans_mat[j, k] * obs_mat[k, int(obs_from_pos[-1])]\n",
    "    for i in range(1, back_length):\n",
    "        for j in range(num_hidden_state):\n",
    "            for k in range(num_hidden_state):\n",
    "                backward[i, j] += trans_mat[j, k] * obs_mat[k, int(obs_from_pos[-(i + 1)])] * backward[i - 1, k]\n",
    "    #print(\"backward: \", backward)\n",
    "    return backward[-1]"
   ]
  },
  {
   "cell_type": "code",
   "execution_count": 6,
   "metadata": {},
   "outputs": [],
   "source": [
    "def x_i_conditional_prob(trans_mat, obs_mat, init_dist, known_X, pos):\n",
    "    num_hidden_state = trans_mat.shape[0]\n",
    "    num_obs = obs_mat.shape[1]\n",
    "    num_samples = known_X.shape[0]\n",
    "    length = known_X.shape[1]\n",
    "    x_pos_conditional_prob = np.zeros((num_samples, num_obs))\n",
    "    h_pos_conditional_prob = np.zeros((num_samples, num_hidden_state))\n",
    "    h_all_pos_conditional_prob = np.zeros((num_samples, num_hidden_state))\n",
    "    for i in range(num_samples):\n",
    "        #print(\"x_i_conditional_prob: i=\", i)\n",
    "        sample_obs_vec = known_X[i]\n",
    "        forward_vec = forward_compute(trans_mat, obs_mat, init_dist, known_X[i, :pos[i]])\n",
    "        backward_vec = backward_compute(trans_mat, obs_mat, known_X[i, pos[i] + 1:])\n",
    "        #print(\"forward_vec: \", forward_vec)\n",
    "        #print(\"backward_vec: \", backward_vec)\n",
    "        h_prob_tmp = forward_vec * backward_vec\n",
    "        tmp = h_prob_tmp.sum()\n",
    "        h_prob_tmp /= tmp\n",
    "        h_pos_conditional_prob[i] = h_prob_tmp\n",
    "        x_pos_conditional_prob[i] = h_prob_tmp @ obs_mat\n",
    "        h_all_pos_conditional_prob[i] = h_prob_tmp * obs_mat[:, int(known_X[i, pos[i]])] / x_pos_conditional_prob[i, int(known_X[i, pos[i]])]\n",
    "    return h_pos_conditional_prob, x_pos_conditional_prob, h_all_pos_conditional_prob"
   ]
  },
  {
   "cell_type": "code",
   "execution_count": 7,
   "metadata": {},
   "outputs": [],
   "source": [
    "#parameter setting\n",
    "num_hidden_state = 3\n",
    "num_obs = 5\n",
    "length = 10\n",
    "num_samples = 1000"
   ]
  },
  {
   "cell_type": "code",
   "execution_count": 8,
   "metadata": {},
   "outputs": [
    {
     "name": "stdout",
     "output_type": "stream",
     "text": [
      "transition matrix\n",
      "[[0.19038151 0.5603291  0.24928939]\n",
      " [0.59211519 0.37810341 0.0297814 ]\n",
      " [0.52737761 0.34205379 0.1305686 ]]\n",
      "observation matrix\n",
      "[[2.84422161e-01 2.51497236e-01 1.31816210e-02 4.38026768e-01\n",
      "  1.28722143e-02]\n",
      " [1.50940815e-01 6.59969385e-01 1.64551320e-02 2.15946003e-02\n",
      "  1.51040067e-01]\n",
      " [9.01408117e-03 9.45219115e-01 4.57668030e-02 7.87716140e-11\n",
      "  4.61558184e-10]]\n",
      "stationary distribution\n",
      "[0.41619456 0.44908825 0.1347172 ]\n",
      "states and observations, first half of each row is states, only showing first 5: \n",
      "[[1. 1. 0. 0. 0. 2. 0. 1. 0. 1. 0. 1. 0. 3. 3. 1. 1. 0. 3. 1.]\n",
      " [1. 1. 0. 0. 1. 1. 0. 1. 1. 1. 1. 4. 3. 3. 4. 1. 0. 4. 1. 1.]\n",
      " [0. 2. 0. 2. 0. 2. 2. 2. 1. 0. 3. 1. 1. 1. 0. 1. 1. 1. 1. 1.]\n",
      " [0. 2. 2. 0. 1. 0. 2. 1. 2. 0. 1. 1. 1. 3. 1. 0. 1. 1. 1. 2.]\n",
      " [1. 0. 1. 0. 2. 1. 1. 1. 0. 1. 4. 1. 4. 1. 1. 0. 1. 0. 3. 3.]]\n",
      "positions, only showing first 5:  [9 4 6 2 1]\n",
      "Pr[H_i|x_-i], j-th row is for j-th sample and i=positions[j], only showing first 5:\n",
      "[[0.21892801 0.54738046 0.23369153]\n",
      " [0.33619463 0.45004706 0.21375831]\n",
      " [0.60101586 0.31777197 0.08121217]\n",
      " [0.24157682 0.61921196 0.13921122]\n",
      " [0.62919903 0.33535031 0.03545066]]\n",
      "Pr[X_i|x_-i], j-th row is for j-th sample and i=positions[j], only showing first 5:\n",
      "[[0.14699655 0.63720383 0.02258836 0.10771679 0.08549447]\n",
      " [0.16547851 0.58361774 0.02162021 0.15698083 0.07230271]\n",
      " [0.21963904 0.43763689 0.01686816 0.2701232  0.0557327 ]\n",
      " [0.16342902 0.60100195 0.01974484 0.11918875 0.09663544]\n",
      " [0.22989575 0.4130714  0.01543456 0.28284777 0.05875052]]\n",
      "Pr[H_i|x_i,x_-i], j-th row is for j-th sample and i=positions[j], only showing first 5:\n",
      "[[8.64084416e-02 5.66936866e-01 3.46654692e-01]\n",
      " [5.98534890e-02 9.40146510e-01 1.36456714e-09]\n",
      " [3.45386395e-01 4.79209535e-01 1.75404070e-01]\n",
      " [1.01091024e-01 6.79966078e-01 2.18942898e-01]\n",
      " [3.83085874e-01 5.35793431e-01 8.11206949e-02]]\n"
     ]
    }
   ],
   "source": [
    "seed = 20211018\n",
    "np.random.seed(seed)\n",
    "trans_mat, obs_mat, stat_dist = generate_HMM_params(num_hidden_state, num_obs) # generate parameters for HMM\n",
    "\n",
    "states, obs = generate_HMM_sequences(trans_mat, obs_mat, stat_dist, length, num_samples) # generate sample sequences\n",
    "\n",
    "pos = np.random.randint(length, size = num_samples)\n",
    "\n",
    "print(\"transition matrix\")\n",
    "print(trans_mat)\n",
    "print(\"observation matrix\")\n",
    "print(obs_mat)\n",
    "print(\"stationary distribution\")\n",
    "print(stat_dist)\n",
    "print(\"states and observations, first half of each row is states, only showing first 5: \")\n",
    "print(np.concatenate((states, obs), axis = 1)[:5])\n",
    "print(\"positions, only showing first 5: \", pos[:5])\n",
    "h, x, hh = x_i_conditional_prob(trans_mat, obs_mat, stat_dist, obs, pos)\n",
    "print(\"Pr[H_i|x_-i], j-th row is for j-th sample and i=positions[j], only showing first 5:\")\n",
    "print(h[:5])\n",
    "print(\"Pr[X_i|x_-i], j-th row is for j-th sample and i=positions[j], only showing first 5:\")\n",
    "print(x[:5])\n",
    "print(\"Pr[H_i|x_i,x_-i], j-th row is for j-th sample and i=positions[j], only showing first 5:\")\n",
    "print(hh[:5])"
   ]
  },
  {
   "cell_type": "code",
   "execution_count": 9,
   "metadata": {},
   "outputs": [],
   "source": [
    "from torch import nn\n",
    "from torch.utils import data"
   ]
  },
  {
   "cell_type": "code",
   "execution_count": 34,
   "metadata": {},
   "outputs": [],
   "source": [
    "class NeuralNetwork(nn.Module):\n",
    "    def __init__(self):\n",
    "        super(NeuralNetwork, self).__init__()\n",
    "        self.linearnetwork = nn.Sequential(\n",
    "            nn.Linear(num_obs, num_hidden_state, bias=False)\n",
    "        )\n",
    "        self.linearnetwork_h = nn.Sequential(\n",
    "            nn.Linear(num_obs, num_hidden_state, bias=False)\n",
    "        )\n",
    "    \n",
    "    def forward(self, x, ind_x):\n",
    "        logits = self.linearnetwork(ind_x)\n",
    "        h = self.linearnetwork_h(x)\n",
    "        return nn.Softmax(dim = 1)(torch.log(h) + logits)"
   ]
  },
  {
   "cell_type": "code",
   "execution_count": 35,
   "metadata": {},
   "outputs": [],
   "source": [
    "x_one_hot = np.zeros((num_samples, num_obs))\n",
    "for i in range(num_samples):\n",
    "    x_one_hot[i, int(obs[i, pos[i]])] = 1\n",
    "#print(pos[:9])\n",
    "#print(obs[:9])\n",
    "#print(x_one_hot[:9])"
   ]
  },
  {
   "cell_type": "code",
   "execution_count": 36,
   "metadata": {},
   "outputs": [],
   "source": [
    "features1, features2, labels = x, x_one_hot, hh"
   ]
  },
  {
   "cell_type": "code",
   "execution_count": 44,
   "metadata": {},
   "outputs": [],
   "source": [
    "# Model parameters.\n",
    "lr = 1\n",
    "epochs = 10000\n",
    "batch_size = 100"
   ]
  },
  {
   "cell_type": "code",
   "execution_count": 45,
   "metadata": {},
   "outputs": [],
   "source": [
    "dataset = data.TensorDataset(torch.FloatTensor(features1), torch.FloatTensor(features2), torch.FloatTensor(labels))\n",
    "train_dl = data.DataLoader(dataset, batch_size=batch_size, shuffle=False)"
   ]
  },
  {
   "cell_type": "code",
   "execution_count": 46,
   "metadata": {},
   "outputs": [
    {
     "data": {
      "text/plain": [
       "Parameter containing:\n",
       "tensor([[1., 1., 1., 1., 1.],\n",
       "        [1., 1., 1., 1., 1.],\n",
       "        [1., 1., 1., 1., 1.]], requires_grad=True)"
      ]
     },
     "execution_count": 46,
     "metadata": {},
     "output_type": "execute_result"
    }
   ],
   "source": [
    "net = NeuralNetwork()\n",
    "nn.init.constant_(net.linearnetwork_h[0].weight, 1)"
   ]
  },
  {
   "cell_type": "code",
   "execution_count": 47,
   "metadata": {},
   "outputs": [],
   "source": [
    "loss = nn.KLDivLoss(reduction='batchmean')"
   ]
  },
  {
   "cell_type": "code",
   "execution_count": 48,
   "metadata": {},
   "outputs": [],
   "source": [
    "trainer = torch.optim.SGD(net.parameters(), lr=lr)"
   ]
  },
  {
   "cell_type": "code",
   "execution_count": 49,
   "metadata": {},
   "outputs": [
    {
     "name": "stdout",
     "output_type": "stream",
     "text": [
      "epoch:  0\n",
      "loss:  tensor(2.1198, grad_fn=<AddBackward0>)\n",
      "epoch:  100\n",
      "loss:  tensor(0.0580, grad_fn=<AddBackward0>)\n",
      "epoch:  200\n",
      "loss:  tensor(0.0421, grad_fn=<AddBackward0>)\n",
      "epoch:  300\n",
      "loss:  tensor(0.0329, grad_fn=<AddBackward0>)\n",
      "epoch:  400\n",
      "loss:  tensor(0.0260, grad_fn=<AddBackward0>)\n",
      "epoch:  500\n",
      "loss:  tensor(0.0209, grad_fn=<AddBackward0>)\n",
      "epoch:  600\n",
      "loss:  tensor(0.0169, grad_fn=<AddBackward0>)\n",
      "epoch:  700\n",
      "loss:  tensor(0.0140, grad_fn=<AddBackward0>)\n",
      "epoch:  800\n",
      "loss:  tensor(0.0117, grad_fn=<AddBackward0>)\n",
      "epoch:  900\n",
      "loss:  tensor(0.0099, grad_fn=<AddBackward0>)\n",
      "epoch:  1000\n",
      "loss:  tensor(0.0085, grad_fn=<AddBackward0>)\n",
      "epoch:  1100\n",
      "loss:  tensor(0.0073, grad_fn=<AddBackward0>)\n",
      "epoch:  1200\n",
      "loss:  tensor(0.0064, grad_fn=<AddBackward0>)\n",
      "epoch:  1300\n",
      "loss:  tensor(0.0056, grad_fn=<AddBackward0>)\n",
      "epoch:  1400\n",
      "loss:  tensor(0.0049, grad_fn=<AddBackward0>)\n",
      "epoch:  1500\n",
      "loss:  tensor(0.0042, grad_fn=<AddBackward0>)\n",
      "epoch:  1600\n",
      "loss:  tensor(0.0037, grad_fn=<AddBackward0>)\n",
      "epoch:  1700\n",
      "loss:  tensor(0.0032, grad_fn=<AddBackward0>)\n",
      "epoch:  1800\n",
      "loss:  tensor(0.0028, grad_fn=<AddBackward0>)\n",
      "epoch:  1900\n",
      "loss:  tensor(0.0024, grad_fn=<AddBackward0>)\n",
      "epoch:  2000\n",
      "loss:  tensor(0.0021, grad_fn=<AddBackward0>)\n",
      "epoch:  2100\n",
      "loss:  tensor(0.0018, grad_fn=<AddBackward0>)\n",
      "epoch:  2200\n",
      "loss:  tensor(0.0015, grad_fn=<AddBackward0>)\n",
      "epoch:  2300\n",
      "loss:  tensor(0.0013, grad_fn=<AddBackward0>)\n",
      "epoch:  2400\n",
      "loss:  tensor(0.0012, grad_fn=<AddBackward0>)\n",
      "epoch:  2500\n",
      "loss:  tensor(0.0011, grad_fn=<AddBackward0>)\n",
      "epoch:  2600\n",
      "loss:  tensor(0.0010, grad_fn=<AddBackward0>)\n",
      "epoch:  2700\n",
      "loss:  tensor(0.0009, grad_fn=<AddBackward0>)\n",
      "epoch:  2800\n",
      "loss:  tensor(0.0008, grad_fn=<AddBackward0>)\n",
      "epoch:  2900\n",
      "loss:  tensor(0.0008, grad_fn=<AddBackward0>)\n",
      "epoch:  3000\n",
      "loss:  tensor(0.0007, grad_fn=<AddBackward0>)\n",
      "epoch:  3100\n",
      "loss:  tensor(0.0007, grad_fn=<AddBackward0>)\n",
      "epoch:  3200\n",
      "loss:  tensor(0.0007, grad_fn=<AddBackward0>)\n",
      "epoch:  3300\n",
      "loss:  tensor(0.0006, grad_fn=<AddBackward0>)\n",
      "epoch:  3400\n",
      "loss:  tensor(0.0006, grad_fn=<AddBackward0>)\n",
      "epoch:  3500\n",
      "loss:  tensor(0.0006, grad_fn=<AddBackward0>)\n",
      "epoch:  3600\n",
      "loss:  tensor(0.0006, grad_fn=<AddBackward0>)\n",
      "epoch:  3700\n",
      "loss:  tensor(0.0005, grad_fn=<AddBackward0>)\n",
      "epoch:  3800\n",
      "loss:  tensor(0.0005, grad_fn=<AddBackward0>)\n",
      "epoch:  3900\n",
      "loss:  tensor(0.0005, grad_fn=<AddBackward0>)\n",
      "epoch:  4000\n",
      "loss:  tensor(0.0005, grad_fn=<AddBackward0>)\n",
      "epoch:  4100\n",
      "loss:  tensor(0.0005, grad_fn=<AddBackward0>)\n",
      "epoch:  4200\n",
      "loss:  tensor(0.0005, grad_fn=<AddBackward0>)\n",
      "epoch:  4300\n",
      "loss:  tensor(0.0005, grad_fn=<AddBackward0>)\n",
      "epoch:  4400\n",
      "loss:  tensor(0.0005, grad_fn=<AddBackward0>)\n",
      "epoch:  4500\n",
      "loss:  tensor(0.0004, grad_fn=<AddBackward0>)\n",
      "epoch:  4600\n",
      "loss:  tensor(0.0004, grad_fn=<AddBackward0>)\n",
      "epoch:  4700\n",
      "loss:  tensor(0.0004, grad_fn=<AddBackward0>)\n",
      "epoch:  4800\n",
      "loss:  tensor(0.0004, grad_fn=<AddBackward0>)\n",
      "epoch:  4900\n",
      "loss:  tensor(0.0004, grad_fn=<AddBackward0>)\n",
      "epoch:  5000\n",
      "loss:  tensor(0.0004, grad_fn=<AddBackward0>)\n",
      "epoch:  5100\n",
      "loss:  tensor(0.0004, grad_fn=<AddBackward0>)\n",
      "epoch:  5200\n",
      "loss:  tensor(0.0004, grad_fn=<AddBackward0>)\n",
      "epoch:  5300\n",
      "loss:  tensor(0.0004, grad_fn=<AddBackward0>)\n",
      "epoch:  5400\n",
      "loss:  tensor(0.0004, grad_fn=<AddBackward0>)\n",
      "epoch:  5500\n",
      "loss:  tensor(0.0004, grad_fn=<AddBackward0>)\n",
      "epoch:  5600\n",
      "loss:  tensor(0.0004, grad_fn=<AddBackward0>)\n",
      "epoch:  5700\n",
      "loss:  tensor(0.0003, grad_fn=<AddBackward0>)\n",
      "epoch:  5800\n",
      "loss:  tensor(0.0003, grad_fn=<AddBackward0>)\n",
      "epoch:  5900\n",
      "loss:  tensor(0.0003, grad_fn=<AddBackward0>)\n",
      "epoch:  6000\n",
      "loss:  tensor(0.0003, grad_fn=<AddBackward0>)\n",
      "epoch:  6100\n",
      "loss:  tensor(0.0003, grad_fn=<AddBackward0>)\n",
      "epoch:  6200\n",
      "loss:  tensor(0.0003, grad_fn=<AddBackward0>)\n",
      "epoch:  6300\n",
      "loss:  tensor(0.0003, grad_fn=<AddBackward0>)\n",
      "epoch:  6400\n",
      "loss:  tensor(0.0003, grad_fn=<AddBackward0>)\n",
      "epoch:  6500\n",
      "loss:  tensor(0.0003, grad_fn=<AddBackward0>)\n",
      "epoch:  6600\n",
      "loss:  tensor(0.0003, grad_fn=<AddBackward0>)\n",
      "epoch:  6700\n",
      "loss:  tensor(0.0003, grad_fn=<AddBackward0>)\n",
      "epoch:  6800\n",
      "loss:  tensor(0.0003, grad_fn=<AddBackward0>)\n",
      "epoch:  6900\n",
      "loss:  tensor(0.0003, grad_fn=<AddBackward0>)\n",
      "epoch:  7000\n",
      "loss:  tensor(0.0003, grad_fn=<AddBackward0>)\n",
      "epoch:  7100\n",
      "loss:  tensor(0.0003, grad_fn=<AddBackward0>)\n",
      "epoch:  7200\n",
      "loss:  tensor(0.0003, grad_fn=<AddBackward0>)\n",
      "epoch:  7300\n",
      "loss:  tensor(0.0003, grad_fn=<AddBackward0>)\n",
      "epoch:  7400\n",
      "loss:  tensor(0.0003, grad_fn=<AddBackward0>)\n",
      "epoch:  7500\n",
      "loss:  tensor(0.0003, grad_fn=<AddBackward0>)\n",
      "epoch:  7600\n",
      "loss:  tensor(0.0003, grad_fn=<AddBackward0>)\n",
      "epoch:  7700\n",
      "loss:  tensor(0.0003, grad_fn=<AddBackward0>)\n",
      "epoch:  7800\n",
      "loss:  tensor(0.0002, grad_fn=<AddBackward0>)\n",
      "epoch:  7900\n",
      "loss:  tensor(0.0002, grad_fn=<AddBackward0>)\n",
      "epoch:  8000\n",
      "loss:  tensor(0.0002, grad_fn=<AddBackward0>)\n",
      "epoch:  8100\n",
      "loss:  tensor(0.0002, grad_fn=<AddBackward0>)\n",
      "epoch:  8200\n",
      "loss:  tensor(0.0002, grad_fn=<AddBackward0>)\n",
      "epoch:  8300\n",
      "loss:  tensor(0.0002, grad_fn=<AddBackward0>)\n",
      "epoch:  8400\n",
      "loss:  tensor(0.0002, grad_fn=<AddBackward0>)\n",
      "epoch:  8500\n",
      "loss:  tensor(0.0002, grad_fn=<AddBackward0>)\n",
      "epoch:  8600\n",
      "loss:  tensor(0.0002, grad_fn=<AddBackward0>)\n",
      "epoch:  8700\n",
      "loss:  tensor(0.0002, grad_fn=<AddBackward0>)\n",
      "epoch:  8800\n",
      "loss:  tensor(0.0002, grad_fn=<AddBackward0>)\n",
      "epoch:  8900\n",
      "loss:  tensor(0.0002, grad_fn=<AddBackward0>)\n",
      "epoch:  9000\n",
      "loss:  tensor(0.0002, grad_fn=<AddBackward0>)\n",
      "epoch:  9100\n",
      "loss:  tensor(0.0002, grad_fn=<AddBackward0>)\n",
      "epoch:  9200\n",
      "loss:  tensor(0.0002, grad_fn=<AddBackward0>)\n",
      "epoch:  9300\n",
      "loss:  tensor(0.0002, grad_fn=<AddBackward0>)\n",
      "epoch:  9400\n",
      "loss:  tensor(0.0002, grad_fn=<AddBackward0>)\n",
      "epoch:  9500\n",
      "loss:  tensor(0.0002, grad_fn=<AddBackward0>)\n",
      "epoch:  9600\n",
      "loss:  tensor(0.0002, grad_fn=<AddBackward0>)\n",
      "epoch:  9700\n",
      "loss:  tensor(0.0002, grad_fn=<AddBackward0>)\n",
      "epoch:  9800\n",
      "loss:  tensor(0.0002, grad_fn=<AddBackward0>)\n",
      "epoch:  9900\n",
      "loss:  tensor(0.0002, grad_fn=<AddBackward0>)\n"
     ]
    }
   ],
   "source": [
    "total_loss_lst = []\n",
    "for i in range(epochs):\n",
    "    total_loss = 0\n",
    "    for X1, X2, y in train_dl:\n",
    "        l = loss(torch.log(net(X1, X2)), y)\n",
    "        #l = shiftedNegLLLoss(net(X1, X2), y)\n",
    "        total_loss += l\n",
    "        trainer.zero_grad()\n",
    "        l.backward()\n",
    "        trainer.step()\n",
    "    if (i % 100 == 0):\n",
    "        print(\"epoch: \", i)\n",
    "        print(\"loss: \", total_loss)\n",
    "        total_loss_lst.append(total_loss)"
   ]
  },
  {
   "cell_type": "code",
   "execution_count": 50,
   "metadata": {},
   "outputs": [
    {
     "data": {
      "image/png": "[encoded data removed]",
      "text/plain": [
       "<Figure size 432x288 with 1 Axes>"
      ]
     },
     "metadata": {
      "needs_background": "light"
     },
     "output_type": "display_data"
    }
   ],
   "source": [
    "import matplotlib.pyplot as plt\n",
    "x_lst = list(range(0, 10000, 100))\n",
    "plt.plot(x_lst, total_loss_lst)\n",
    "plt.yscale('log')\n",
    "plt.xlabel(\"epochs\")\n",
    "plt.ylabel(\"training loss\")\n",
    "plt.show()"
   ]
  },
  {
   "cell_type": "code",
   "execution_count": 51,
   "metadata": {},
   "outputs": [
    {
     "name": "stdout",
     "output_type": "stream",
     "text": [
      "learned matrix:\n",
      "[[ 0.89628845 -1.1770345  -0.9938493   3.8384502   0.6095001 ]\n",
      " [ 0.8236614   0.34915718 -0.21126103  1.3891723   3.6333191 ]\n",
      " [-2.3793757   0.32312828  0.4282125  -5.0138817  -4.623234  ]]\n",
      "log(O):\n",
      "[[ -1.25729566  -1.38032328  -4.32893177  -0.82547526  -4.35268422]\n",
      " [ -1.89086747  -0.41556183  -4.10711787  -3.83531198  -1.89021013]\n",
      " [ -4.70896735  -0.05633851  -3.08419628 -23.26446841 -21.49641299]]\n",
      "Difference:\n",
      "[[ 2.15358412  0.20328878  3.33508249  4.66392545  4.96218433]\n",
      " [ 2.71452886  0.76471902  3.89585684  5.2244843   5.52352927]\n",
      " [ 2.32959165  0.37946679  3.51240877 18.25058673 16.8731792 ]]\n"
     ]
    }
   ],
   "source": [
    "print(\"learned matrix:\")\n",
    "print(net.linearnetwork[0].weight.data.numpy())\n",
    "print(\"log(O):\")\n",
    "print(np.log(obs_mat))\n",
    "print(\"Difference:\")\n",
    "print(net.linearnetwork[0].weight.data.numpy() - np.log(obs_mat))"
   ]
  },
  {
   "cell_type": "code",
   "execution_count": 54,
   "metadata": {},
   "outputs": [
    {
     "name": "stdout",
     "output_type": "stream",
     "text": [
      "learned matrix:\n",
      "[[ 0.39010373  1.8261852  -2.6486025 ]\n",
      " [ 0.008606    0.00922457  1.2635484 ]\n",
      " [ 1.1878589   0.67104965  1.4508202 ]\n",
      " [ 3.0848243  -1.3024158   1.0486238 ]\n",
      " [-1.1736768   3.598973   -3.2347605 ]]\n",
      "pseudo inv of O:\n",
      "[[ 5.33398346e-01  2.62833064e+00 -1.97029301e+00]\n",
      " [-9.48583761e-03 -2.97974301e-03  1.06001933e+00]\n",
      " [ 9.08540466e-02 -4.56127065e-01  3.45443693e-01]\n",
      " [ 1.96231049e+00 -1.81806331e+00  7.42823603e-01]\n",
      " [-7.82054374e-01  4.31680259e+00 -2.80659284e+00]]\n",
      "Difference:\n",
      "[[-0.14329462 -0.80214541 -0.67830948]\n",
      " [ 0.01809184  0.01220431  0.20352905]\n",
      " [ 1.09700489  1.12717672  1.10537651]\n",
      " [ 1.12251384  0.51564747  0.3058002 ]\n",
      " [-0.39162247 -0.71782955 -0.42816768]]\n"
     ]
    }
   ],
   "source": [
    "print(\"learned matrix:\")\n",
    "print(net.linearnetwork_h[0].weight.data.numpy().T)\n",
    "print(\"pseudo inv of O:\")\n",
    "print(np.linalg.pinv(obs_mat))\n",
    "print(\"Difference:\")\n",
    "print(net.linearnetwork_h[0].weight.data.numpy().T - np.linalg.pinv(obs_mat))"
   ]
  },
  {
   "cell_type": "code",
   "execution_count": 55,
   "metadata": {},
   "outputs": [
    {
     "data": {
      "text/plain": [
       "NeuralNetwork(\n",
       "  (linearnetwork): Sequential(\n",
       "    (0): Linear(in_features=5, out_features=3, bias=False)\n",
       "  )\n",
       "  (linearnetwork_h): Sequential(\n",
       "    (0): Linear(in_features=5, out_features=3, bias=False)\n",
       "  )\n",
       ")"
      ]
     },
     "execution_count": 55,
     "metadata": {},
     "output_type": "execute_result"
    }
   ],
   "source": [
    "net.eval()"
   ]
  },
  {
   "cell_type": "code",
   "execution_count": 56,
   "metadata": {},
   "outputs": [
    {
     "name": "stdout",
     "output_type": "stream",
     "text": [
      "transition matrix:\n",
      "[[0.19038151 0.5603291  0.24928939]\n",
      " [0.59211519 0.37810341 0.0297814 ]\n",
      " [0.52737761 0.34205379 0.1305686 ]]\n",
      "observation matrix:\n",
      "[[2.84422161e-01 2.51497236e-01 1.31816210e-02 4.38026768e-01\n",
      "  1.28722143e-02]\n",
      " [1.50940815e-01 6.59969385e-01 1.64551320e-02 2.15946003e-02\n",
      "  1.51040067e-01]\n",
      " [9.01408117e-03 9.45219115e-01 4.57668030e-02 7.87716140e-11\n",
      "  4.61558184e-10]]\n",
      "stationary distribution:\n",
      "[0.41619456 0.44908825 0.1347172 ]\n",
      "states and observations, first half of each row is states, only showing first 5:\n",
      "[[0. 1. 0. 0. 2. 1. 0. 2. 0. 2. 0. 0. 0. 0. 1. 0. 3. 1. 1. 1.]\n",
      " [0. 2. 0. 1. 1. 0. 2. 1. 0. 1. 3. 1. 3. 4. 1. 3. 1. 4. 0. 1.]\n",
      " [1. 0. 1. 0. 2. 0. 1. 1. 0. 1. 1. 0. 1. 1. 1. 0. 0. 1. 1. 1.]\n",
      " [2. 0. 0. 1. 0. 1. 0. 2. 2. 1. 1. 1. 1. 1. 1. 4. 3. 1. 1. 0.]\n",
      " [0. 1. 0. 1. 1. 1. 0. 1. 1. 1. 3. 1. 1. 1. 1. 1. 0. 1. 1. 1.]]\n",
      "positions, only showing first 5:  [2 2 5 8 1]\n",
      "Pr[H_i|x_-i], j-th row is for j-th sample and i=positions[j], only showing first 5:\n",
      "[[0.2431274  0.58828537 0.16858724]\n",
      " [0.59621374 0.33723514 0.06655112]\n",
      " [0.34529973 0.53576977 0.11893049]\n",
      " [0.42479842 0.48089777 0.0943038 ]\n",
      " [0.26754286 0.49347438 0.23898276]]\n",
      "Pr[X_i|x_-i], j-th row is for j-th sample and i=positions[j], only showing first 5:\n",
      "[[0.15946675 0.60874808 0.02060083 0.1192001  0.09198425]\n",
      " [0.22107884 0.43541637 0.01645414 0.26844003 0.05861061]\n",
      " [0.18015247 0.55284895 0.01881084 0.16282026 0.08536747]\n",
      " [0.19425925 0.51335119 0.01782875 0.19645788 0.07810293]\n",
      " [0.15273475 0.61885535 0.02258431 0.12784731 0.07797827]]\n",
      "Pr[H_i|x_i,x_-i], j-th row is for j-th sample and i=positions[j], only showing first 5:\n",
      "[[4.33637854e-01 5.56832517e-01 9.52962935e-03]\n",
      " [9.72871192e-01 2.71288079e-02 1.95289028e-11]\n",
      " [5.45154307e-01 4.48894905e-01 5.95078777e-03]\n",
      " [2.08114115e-01 6.18246942e-01 1.73638943e-01]\n",
      " [1.08727006e-01 5.26258660e-01 3.65014334e-01]]\n"
     ]
    }
   ],
   "source": [
    "states, obs = generate_HMM_sequences(trans_mat, obs_mat, stat_dist, length, num_samples) # generate sample sequences\n",
    "\n",
    "pos = np.random.randint(length, size = num_samples)\n",
    "\n",
    "print(\"transition matrix:\")\n",
    "print(trans_mat)\n",
    "print(\"observation matrix:\")\n",
    "print(obs_mat)\n",
    "print(\"stationary distribution:\")\n",
    "print(stat_dist)\n",
    "print(\"states and observations, first half of each row is states, only showing first 5:\")\n",
    "print(np.concatenate((states, obs), axis = 1)[:5])\n",
    "print(\"positions, only showing first 5: \", pos[:5])\n",
    "h, x, hh = x_i_conditional_prob(trans_mat, obs_mat, stat_dist, obs, pos)\n",
    "print(\"Pr[H_i|x_-i], j-th row is for j-th sample and i=positions[j], only showing first 5:\")\n",
    "print(h[:5])\n",
    "print(\"Pr[X_i|x_-i], j-th row is for j-th sample and i=positions[j], only showing first 5:\")\n",
    "print(x[:5])\n",
    "print(\"Pr[H_i|x_i,x_-i], j-th row is for j-th sample and i=positions[j], only showing first 5:\")\n",
    "print(hh[:5])"
   ]
  },
  {
   "cell_type": "code",
   "execution_count": 57,
   "metadata": {},
   "outputs": [],
   "source": [
    "x_one_hot = np.zeros((num_samples, num_obs))\n",
    "for i in range(num_samples):\n",
    "    x_one_hot[i, int(obs[i, pos[i]])] = 1"
   ]
  },
  {
   "cell_type": "code",
   "execution_count": 58,
   "metadata": {},
   "outputs": [],
   "source": [
    "features1, features2, labels = x, x_one_hot, hh"
   ]
  },
  {
   "cell_type": "code",
   "execution_count": 59,
   "metadata": {},
   "outputs": [],
   "source": [
    "test_dataset = data.TensorDataset(torch.FloatTensor(features1), torch.FloatTensor(features2), torch.FloatTensor(labels))\n",
    "test_dl = torch.utils.data.DataLoader(test_dataset, batch_size=num_samples, shuffle=False)"
   ]
  },
  {
   "cell_type": "code",
   "execution_count": 62,
   "metadata": {},
   "outputs": [
    {
     "name": "stdout",
     "output_type": "stream",
     "text": [
      "tensor(1.8436e-05, grad_fn=<DivBackward0>)\n",
      "tensor([[4.3322e-01, 5.5728e-01, 9.5045e-03],\n",
      "        [9.7290e-01, 2.7086e-02, 1.2877e-05],\n",
      "        [5.4537e-01, 4.4871e-01, 5.9128e-03],\n",
      "        [2.0881e-01, 6.1887e-01, 1.7232e-01],\n",
      "        [1.0937e-01, 5.2782e-01, 3.6280e-01]], grad_fn=<SliceBackward>)\n",
      "tensor([[4.3364e-01, 5.5683e-01, 9.5296e-03],\n",
      "        [9.7287e-01, 2.7129e-02, 1.9529e-11],\n",
      "        [5.4515e-01, 4.4889e-01, 5.9508e-03],\n",
      "        [2.0811e-01, 6.1825e-01, 1.7364e-01],\n",
      "        [1.0873e-01, 5.2626e-01, 3.6501e-01]])\n"
     ]
    }
   ],
   "source": [
    "for X1, X2, y in test_dl:\n",
    "    print(loss(torch.log(net(X1, X2)), y))\n",
    "    print(net(X1, X2)[:5])\n",
    "    print(y[:5])"
   ]
  },
  {
   "cell_type": "code",
   "execution_count": null,
   "metadata": {},
   "outputs": [],
   "source": []
  }
 ],
 "metadata": {
  "kernelspec": {
   "display_name": "Python 3",
   "language": "python",
   "name": "python3"
  },
  "language_info": {
   "codemirror_mode": {
    "name": "ipython",
    "version": 3
   },
   "file_extension": ".py",
   "mimetype": "text/x-python",
   "name": "python",
   "nbconvert_exporter": "python",
   "pygments_lexer": "ipython3",
   "version": "3.7.2"
  }
 },
 "nbformat": 4,
 "nbformat_minor": 4
}
