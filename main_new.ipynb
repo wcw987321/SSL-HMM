{
 "cells": [
  {
   "cell_type": "code",
   "execution_count": 1,
   "metadata": {},
   "outputs": [],
   "source": [
    "import numpy as np\n",
    "import torch"
   ]
  },
  {
   "cell_type": "code",
   "execution_count": 191,
   "metadata": {},
   "outputs": [],
   "source": [
    "#parameter setting\n",
    "num_hidden_state = 3\n",
    "num_obs = 5\n",
    "length = 3\n",
    "num_samples = 1"
   ]
  },
  {
   "cell_type": "code",
   "execution_count": 2,
   "metadata": {},
   "outputs": [],
   "source": [
    "#define some useful functions\n",
    "def generate_HMM_params(num_hidden_state, num_obs):\n",
    "    # random generate the transition matrix and observation matrix, and compute the stationary distribution\n",
    "    \n",
    "    alpha_state = np.ones(num_hidden_state)\n",
    "    alpha_obs = np.ones(num_obs) / num_obs\n",
    "    trans_mat = np.random.dirichlet(alpha_state, num_hidden_state)\n",
    "    obs_mat = np.random.dirichlet(alpha_obs, num_hidden_state)\n",
    "    tmp = np.ones((num_hidden_state + 1, num_hidden_state))\n",
    "    tmp[:-1] = np.identity(num_hidden_state) - trans_mat.T\n",
    "    tmp_v = np.zeros(num_hidden_state + 1)\n",
    "    tmp_v[-1] = 1\n",
    "    stat_dist = np.linalg.lstsq(tmp, tmp_v, rcond=None)[0]\n",
    "    return trans_mat, obs_mat, stat_dist"
   ]
  },
  {
   "cell_type": "code",
   "execution_count": 4,
   "metadata": {
    "scrolled": true
   },
   "outputs": [
    {
     "name": "stdout",
     "output_type": "stream",
     "text": [
      "[[0.31171752 0.14466132 0.54362116]\n",
      " [0.48262276 0.41041321 0.10696403]\n",
      " [0.63493906 0.18155131 0.18350963]]\n",
      "[[5.31183612e-03 3.18727100e-01 4.60386268e-01 1.87884837e-01\n",
      "  2.76899589e-02]\n",
      " [1.39397202e-03 1.01159214e-04 8.84424090e-01 2.97764010e-02\n",
      "  8.43043777e-02]\n",
      " [3.88117700e-03 2.36483698e-01 1.76779583e-02 7.20955470e-01\n",
      "  2.10016963e-02]]\n",
      "[0.45524953 0.21365455 0.33109592]\n",
      "[0.45524953 0.21365455 0.33109592]\n"
     ]
    }
   ],
   "source": [
    "trans_mat, obs_mat, stat_dist = generate_HMM_params(num_hidden_state, num_obs) # generate parameters for HMM\n",
    "print(trans_mat)\n",
    "print(obs_mat)\n",
    "print(stat_dist)\n",
    "print(stat_dist @ trans_mat)"
   ]
  },
  {
   "cell_type": "code",
   "execution_count": 3,
   "metadata": {},
   "outputs": [],
   "source": [
    "def generate_HMM_sequences(trans_mat, obs_mat, init_dist, length, num_samples = 1):\n",
    "    # generate sample sequences from HMM\n",
    "    \n",
    "    states = np.zeros((num_samples, length))\n",
    "    obs = np.zeros((num_samples, length))\n",
    "    tmp_state = np.argmax(np.random.multinomial(1, init_dist, num_samples), axis = 1)\n",
    "    #print(tmp_state)\n",
    "    for i in range(length):\n",
    "        #print(\"i: \", i)\n",
    "        states[:, i] = tmp_state\n",
    "        for j in range(num_samples):\n",
    "            obs[j, i] = np.random.multinomial(1, obs_mat[tmp_state[j]]).argmax()\n",
    "            tmp_state[j] = np.random.multinomial(1, trans_mat[tmp_state[j]]).argmax()\n",
    "        #print(\"obs[:, i]: \", obs[:, i])\n",
    "    return states, obs"
   ]
  },
  {
   "cell_type": "code",
   "execution_count": 10,
   "metadata": {},
   "outputs": [
    {
     "name": "stdout",
     "output_type": "stream",
     "text": [
      "[213, 14394, 21011, 8542, 1279]\n",
      "[0.0046876  0.31677634 0.46240014 0.18798829 0.02814763]\n"
     ]
    }
   ],
   "source": [
    "test_states, test_obs = generate_HMM_sequences(trans_mat, obs_mat, stat_dist, length, 100000)\n",
    "lst = [0, 0, 0, 0, 0]\n",
    "for i in range(test_states.shape[0]):\n",
    "    if (test_states[i, 0] == 0.0): # and (test_states[i, 1] == 2.0):\n",
    "        lst[int(test_obs[i, 0])] += 1\n",
    "print(lst)\n",
    "lst = np.array(lst).astype('float64')\n",
    "lst /= lst.sum()\n",
    "print(lst)"
   ]
  },
  {
   "cell_type": "code",
   "execution_count": 4,
   "metadata": {},
   "outputs": [],
   "source": [
    "def forward_compute(trans_mat, obs_mat, init_dist, obs_to_pos):\n",
    "    # compute \\sum_{h_1,...,h_{pos-1}} P(h_1,...,h_{pos},x_1,...,x_{pos-1})\n",
    "    pos = obs_to_pos.shape[0] + 1\n",
    "    num_hidden_state = trans_mat.shape[0]\n",
    "    num_obs = obs_mat.shape[1]\n",
    "    forward = np.zeros((pos, num_hidden_state))\n",
    "    forward[0] = init_dist\n",
    "    for i in range(1, pos):\n",
    "        for j in range(num_hidden_state):\n",
    "            for k in range(num_hidden_state):\n",
    "                #print(i, j, k)\n",
    "                #print(forward[i - 1, k], trans_mat[k, j], obs_mat[k, int(obs_to_pos[i - 1])])\n",
    "                forward[i, j] += forward[i - 1, k] * trans_mat[k, j] * obs_mat[k, int(obs_to_pos[i - 1])]\n",
    "    #print(\"forward: \", forward)\n",
    "    return forward[pos - 1]"
   ]
  },
  {
   "cell_type": "code",
   "execution_count": 5,
   "metadata": {},
   "outputs": [],
   "source": [
    "def backward_compute(trans_mat, obs_mat, obs_from_pos):\n",
    "    num_hidden_state = trans_mat.shape[0]\n",
    "    num_obs = obs_mat.shape[1]\n",
    "    back_length = obs_from_pos.shape[0]\n",
    "    if (back_length == 0):\n",
    "        return np.ones(num_hidden_state)\n",
    "    backward = np.zeros((back_length, num_hidden_state))\n",
    "    for j in range(num_hidden_state):\n",
    "         for k in range(num_hidden_state):\n",
    "            backward[0, j] += trans_mat[j, k] * obs_mat[k, int(obs_from_pos[-1])]\n",
    "    for i in range(1, back_length):\n",
    "        for j in range(num_hidden_state):\n",
    "            for k in range(num_hidden_state):\n",
    "                backward[i, j] += trans_mat[j, k] * obs_mat[k, int(obs_from_pos[-(i + 1)])] * backward[i - 1, k]\n",
    "    #print(\"backward: \", backward)\n",
    "    return backward[-1]"
   ]
  },
  {
   "cell_type": "code",
   "execution_count": 6,
   "metadata": {},
   "outputs": [],
   "source": [
    "def x_i_conditional_prob(trans_mat, obs_mat, init_dist, known_X, pos):\n",
    "    num_hidden_state = trans_mat.shape[0]\n",
    "    num_obs = obs_mat.shape[1]\n",
    "    num_samples = known_X.shape[0]\n",
    "    length = known_X.shape[1]\n",
    "    x_pos_conditional_prob = np.zeros((num_samples, num_obs))\n",
    "    h_pos_conditional_prob = np.zeros((num_samples, num_hidden_state))\n",
    "    h_all_pos_conditional_prob = np.zeros((num_samples, num_hidden_state))\n",
    "    for i in range(num_samples):\n",
    "        #print(\"x_i_conditional_prob: i=\", i)\n",
    "        sample_obs_vec = known_X[i]\n",
    "        forward_vec = forward_compute(trans_mat, obs_mat, init_dist, known_X[i, :pos[i]])\n",
    "        backward_vec = backward_compute(trans_mat, obs_mat, known_X[i, pos[i] + 1:])\n",
    "        #print(\"forward_vec: \", forward_vec)\n",
    "        #print(\"backward_vec: \", backward_vec)\n",
    "        h_prob_tmp = forward_vec * backward_vec\n",
    "        tmp = h_prob_tmp.sum()\n",
    "        h_prob_tmp /= tmp\n",
    "        h_pos_conditional_prob[i] = h_prob_tmp\n",
    "        x_pos_conditional_prob[i] = h_prob_tmp @ obs_mat\n",
    "        h_all_pos_conditional_prob[i] = h_prob_tmp * obs_mat[:, int(known_X[i, pos[i]])] / x_pos_conditional_prob[i, int(known_X[i, pos[i]])]\n",
    "    return h_pos_conditional_prob, x_pos_conditional_prob, h_all_pos_conditional_prob"
   ]
  },
  {
   "cell_type": "code",
   "execution_count": 15,
   "metadata": {},
   "outputs": [
    {
     "name": "stdout",
     "output_type": "stream",
     "text": [
      "[15760, 4543, 4542]\n",
      "[0.63433286 0.18285369 0.18281344]\n"
     ]
    }
   ],
   "source": [
    "test_states, test_obs = generate_HMM_sequences(trans_mat, obs_mat, stat_dist, length, 100000)\n",
    "lst = [0, 0, 0]\n",
    "for i in range(test_states.shape[0]):\n",
    "    if (test_states[i, 0] == 0.0) and (test_states[i, 1] == 2.0):\n",
    "        lst[int(test_states[i, 2])] += 1\n",
    "print(lst)\n",
    "lst = np.array(lst).astype('float64')\n",
    "lst /= lst.sum()\n",
    "print(lst)"
   ]
  },
  {
   "cell_type": "code",
   "execution_count": 17,
   "metadata": {},
   "outputs": [
    {
     "data": {
      "text/plain": [
       "(array([[0., 0., 2.]]), array([[1., 2., 3.]]))"
      ]
     },
     "execution_count": 17,
     "metadata": {},
     "output_type": "execute_result"
    }
   ],
   "source": [
    "states, obs = generate_HMM_sequences(trans_mat, obs_mat, stat_dist, length, num_samples)\n",
    "states, obs"
   ]
  },
  {
   "cell_type": "code",
   "execution_count": 18,
   "metadata": {},
   "outputs": [
    {
     "name": "stdout",
     "output_type": "stream",
     "text": [
      "transition matrix\n",
      "[[0.01554627 0.14416745 0.84028628]\n",
      " [0.13160845 0.43043007 0.43796147]\n",
      " [0.3378113  0.01195339 0.65023531]]\n",
      "observation matrix\n",
      "[[5.10336443e-05 4.22640901e-06 2.08226911e-14 1.80774938e-01\n",
      "  8.19169802e-01]\n",
      " [8.86951621e-01 1.03226795e-01 2.03990342e-03 1.96728311e-03\n",
      "  5.81439722e-03]\n",
      " [3.78728552e-01 1.24232902e-01 1.81257702e-03 4.50485680e-01\n",
      "  4.47402888e-02]]\n",
      "stationary distribution\n",
      "[0.24363546 0.07594781 0.68041673]\n",
      "states and observations, first half of each row is states\n",
      "[[2. 2. 2. 0. 0. 0.]]\n",
      "positions:  [2]\n",
      "Pr[H_i|x_-i], j-th row is for j-th sample and i=positions[j]:\n",
      "[[0.28089022 0.12744663 0.59166315]]\n",
      "Pr[X_i|x_-i], j-th row is for j-th sample and i=positions[j]:\n",
      "[[0.33713306 0.08666112 0.00133241 0.31756441 0.25730899]]\n"
     ]
    }
   ],
   "source": [
    "trans_mat, obs_mat, stat_dist = generate_HMM_params(num_hidden_state, num_obs) # generate parameters for HMM\n",
    "\n",
    "#obs_mat = np.zeros((num_hidden_state, num_obs))\n",
    "#obs_mat[:, :num_hidden_state] = np.identity(num_hidden_state)\n",
    "\n",
    "states, obs = generate_HMM_sequences(trans_mat, obs_mat, stat_dist, length, num_samples) # generate sample sequences\n",
    "\n",
    "pos = np.random.randint(length, size = num_samples)\n",
    "#pos_one_hot = np.zeros((num_samples, length))\n",
    "#tmp = np.arange(num_samples)\n",
    "#pos_one_hot[tmp, pos] = 1\n",
    "#print(pos_one_hot)\n",
    "print(\"transition matrix\")\n",
    "print(trans_mat)\n",
    "print(\"observation matrix\")\n",
    "print(obs_mat)\n",
    "print(\"stationary distribution\")\n",
    "print(stat_dist)\n",
    "print(\"states and observations, first half of each row is states\")\n",
    "print(np.concatenate((states, obs), axis = 1))\n",
    "print(\"positions: \", pos)\n",
    "h, x = x_i_conditional_prob(trans_mat, obs_mat, stat_dist, obs, pos)\n",
    "print(\"Pr[H_i|x_-i], j-th row is for j-th sample and i=positions[j]:\")\n",
    "print(h)\n",
    "print(\"Pr[X_i|x_-i], j-th row is for j-th sample and i=positions[j]:\")\n",
    "print(x)"
   ]
  },
  {
   "cell_type": "code",
   "execution_count": 20,
   "metadata": {},
   "outputs": [
    {
     "name": "stdout",
     "output_type": "stream",
     "text": [
      "[28774, 12854, 61110, 0, 0]\n",
      "[0.28007164 0.12511437 0.59481399 0.         0.        ]\n"
     ]
    }
   ],
   "source": [
    "#x_i_conditional_prob(trans_mat, obs_mat, stat_dist, obs, np.array([1]))\n",
    "test_states, test_obs = generate_HMM_sequences(trans_mat, obs_mat, stat_dist, length, 1000000)\n",
    "lst = [0, 0, 0, 0, 0]\n",
    "for i in range(test_states.shape[0]):\n",
    "    if (test_obs[i, 0] == 0.0) and (test_obs[i, 1] == 0.0):\n",
    "        lst[int(test_states[i, 2])] += 1\n",
    "print(lst)\n",
    "lst = np.array(lst).astype('float64')\n",
    "lst /= lst.sum()\n",
    "print(lst)"
   ]
  },
  {
   "cell_type": "code",
   "execution_count": 10,
   "metadata": {},
   "outputs": [
    {
     "data": {
      "text/plain": [
       "(array([[0.26064652, 0.33029826, 0.11729067, 0.04206999, 0.24969456]]),\n",
       " array([[0.26064652, 0.33029826, 0.11729067, 0.04206999, 0.24969456]]))"
      ]
     },
     "execution_count": 10,
     "metadata": {},
     "output_type": "execute_result"
    }
   ],
   "source": [
    "h @ obs_mat, x"
   ]
  },
  {
   "cell_type": "code",
   "execution_count": 7,
   "metadata": {},
   "outputs": [],
   "source": [
    "from torch.utils import data"
   ]
  },
  {
   "cell_type": "code",
   "execution_count": 8,
   "metadata": {},
   "outputs": [],
   "source": [
    "#parameter setting\n",
    "num_hidden_state = 3\n",
    "num_obs = 5\n",
    "length = 10\n",
    "num_samples = 1000"
   ]
  },
  {
   "cell_type": "code",
   "execution_count": 22,
   "metadata": {},
   "outputs": [
    {
     "name": "stdout",
     "output_type": "stream",
     "text": [
      "random seed:20211018\n",
      "transition matrix:\n",
      "[[0.19038151 0.5603291  0.24928939]\n",
      " [0.59211519 0.37810341 0.0297814 ]\n",
      " [0.52737761 0.34205379 0.1305686 ]]\n",
      "observation matrix:\n",
      "[[2.84422161e-01 2.51497236e-01 1.31816210e-02 4.38026768e-01\n",
      "  1.28722143e-02]\n",
      " [1.50940815e-01 6.59969385e-01 1.64551320e-02 2.15946003e-02\n",
      "  1.51040067e-01]\n",
      " [9.01408117e-03 9.45219115e-01 4.57668030e-02 7.87716140e-11\n",
      "  4.61558184e-10]]\n",
      "stationary distribution:\n",
      "[0.41619456 0.44908825 0.1347172 ]\n",
      "states and observations, first half of each row is states, only showing first 5:\n",
      "[[1. 1. 0. 0. 0. 2. 0. 1. 0. 1. 0. 1. 0. 3. 3. 1. 1. 0. 3. 1.]\n",
      " [1. 1. 0. 0. 1. 1. 0. 1. 1. 1. 1. 4. 3. 3. 4. 1. 0. 4. 1. 1.]\n",
      " [0. 2. 0. 2. 0. 2. 2. 2. 1. 0. 3. 1. 1. 1. 0. 1. 1. 1. 1. 1.]\n",
      " [0. 2. 2. 0. 1. 0. 2. 1. 2. 0. 1. 1. 1. 3. 1. 0. 1. 1. 1. 2.]\n",
      " [1. 0. 1. 0. 2. 1. 1. 1. 0. 1. 4. 1. 4. 1. 1. 0. 1. 0. 3. 3.]]\n",
      "positions, only showing first 5:  [9 4 6 2 1]\n",
      "Pr[H_i|x_-i], j-th row is for j-th sample and i=positions[j], only showing first 5:\n",
      "[[0.21892801 0.54738046 0.23369153]\n",
      " [0.33619463 0.45004706 0.21375831]\n",
      " [0.60101586 0.31777197 0.08121217]\n",
      " [0.24157682 0.61921196 0.13921122]\n",
      " [0.62919903 0.33535031 0.03545066]]\n",
      "Pr[X_i|x_-i], j-th row is for j-th sample and i=positions[j], only showing first 5:\n",
      "[[0.14699655 0.63720383 0.02258836 0.10771679 0.08549447]\n",
      " [0.16547851 0.58361774 0.02162021 0.15698083 0.07230271]\n",
      " [0.21963904 0.43763689 0.01686816 0.2701232  0.0557327 ]\n",
      " [0.16342902 0.60100195 0.01974484 0.11918875 0.09663544]\n",
      " [0.22989575 0.4130714  0.01543456 0.28284777 0.05875052]]\n",
      "Pr[H_i|x_i,x_-i], j-th row is for j-th sample and i=positions[j], only showing first 5:\n",
      "[[8.64084416e-02 5.66936866e-01 3.46654692e-01]\n",
      " [5.98534890e-02 9.40146510e-01 1.36456714e-09]\n",
      " [3.45386395e-01 4.79209535e-01 1.75404070e-01]\n",
      " [1.01091024e-01 6.79966078e-01 2.18942898e-01]\n",
      " [3.83085874e-01 5.35793431e-01 8.11206949e-02]]\n"
     ]
    }
   ],
   "source": [
    "seed = 20211018\n",
    "np.random.seed(seed)\n",
    "trans_mat, obs_mat, stat_dist = generate_HMM_params(num_hidden_state, num_obs) # generate parameters for HMM\n",
    "\n",
    "states, obs = generate_HMM_sequences(trans_mat, obs_mat, stat_dist, length, num_samples) # generate sample sequences\n",
    "\n",
    "pos = np.random.randint(length, size = num_samples)\n",
    "\n",
    "print(\"random seed:\" + str(seed))\n",
    "print(\"transition matrix:\")\n",
    "print(trans_mat)\n",
    "print(\"observation matrix:\")\n",
    "print(obs_mat)\n",
    "print(\"stationary distribution:\")\n",
    "print(stat_dist)\n",
    "print(\"states and observations, first half of each row is states, only showing first 5:\")\n",
    "print(np.concatenate((states, obs), axis = 1)[:5])\n",
    "print(\"positions, only showing first 5: \", pos[:5])\n",
    "h, x, hh = x_i_conditional_prob(trans_mat, obs_mat, stat_dist, obs, pos)\n",
    "print(\"Pr[H_i|x_-i], j-th row is for j-th sample and i=positions[j], only showing first 5:\")\n",
    "print(h[:5])\n",
    "print(\"Pr[X_i|x_-i], j-th row is for j-th sample and i=positions[j], only showing first 5:\")\n",
    "print(x[:5])\n",
    "print(\"Pr[H_i|x_i,x_-i], j-th row is for j-th sample and i=positions[j], only showing first 5:\")\n",
    "print(hh[:5])"
   ]
  },
  {
   "cell_type": "code",
   "execution_count": 23,
   "metadata": {},
   "outputs": [
    {
     "name": "stdout",
     "output_type": "stream",
     "text": [
      "Pr[H_i|x_-i], j-th row is for j-th sample and i=positions[j]:\n",
      "[[0.21892801 0.54738046 0.23369153]\n",
      " [0.33619463 0.45004706 0.21375831]\n",
      " [0.60101586 0.31777197 0.08121217]\n",
      " ...\n",
      " [0.41379102 0.41856886 0.16764012]\n",
      " [0.27206145 0.58534399 0.14259456]\n",
      " [0.09832065 0.65804146 0.24363788]]\n",
      "Pr[X_i|x_-i], j-th row is for j-th sample and i=positions[j]:\n",
      "[[0.14699655 0.63720383 0.02258836 0.10771679 0.08549447]\n",
      " [0.16547851 0.58361774 0.02162021 0.15698083 0.07230271]\n",
      " [0.21963904 0.43763689 0.01686816 0.2701232  0.0557327 ]\n",
      " ...\n",
      " [0.18238158 0.53876658 0.02001439 0.19029037 0.06854707]\n",
      " [0.16701796 0.58951492 0.01974422 0.13181047 0.09191243]\n",
      " [0.12948606 0.68930578 0.02327471 0.05727722 0.10065623]]\n",
      "Pr[H_i|x_i,x_-i], j-th row is for j-th sample and i=positions[j]:\n",
      "[[8.64084416e-02 5.66936866e-01 3.46654692e-01]\n",
      " [5.98534890e-02 9.40146510e-01 1.36456714e-09]\n",
      " [3.45386395e-01 4.79209535e-01 1.75404070e-01]\n",
      " ...\n",
      " [1.93158417e-01 5.12731568e-01 2.94110015e-01]\n",
      " [9.04102686e-01 9.58973140e-02 8.52163275e-11]\n",
      " [7.51905867e-01 2.48094133e-01 3.35067748e-10]]\n"
     ]
    }
   ],
   "source": [
    "h, x, hh = x_i_conditional_prob(trans_mat, obs_mat, stat_dist, obs, pos)\n",
    "print(\"Pr[H_i|x_-i], j-th row is for j-th sample and i=positions[j]:\")\n",
    "print(h)\n",
    "print(\"Pr[X_i|x_-i], j-th row is for j-th sample and i=positions[j]:\")\n",
    "print(x)\n",
    "print(\"Pr[H_i|x_i,x_-i], j-th row is for j-th sample and i=positions[j]:\")\n",
    "print(hh)"
   ]
  },
  {
   "cell_type": "code",
   "execution_count": 199,
   "metadata": {},
   "outputs": [
    {
     "name": "stdout",
     "output_type": "stream",
     "text": [
      "[527, 3185, 3864]\n",
      "[0.06956177 0.42040655 0.51003168]\n"
     ]
    }
   ],
   "source": [
    "test_states, test_obs = generate_HMM_sequences(trans_mat, obs_mat, stat_dist, length, 1000000)\n",
    "lst = [0, 0, 0]\n",
    "for i in range(test_states.shape[0]):\n",
    "    if (test_obs[i, 0] == 2.0) and (test_obs[i, 1] == 1.0) and (test_obs[i, 2] == 3.0):\n",
    "        lst[int(test_states[i, 2])] += 1\n",
    "print(lst)\n",
    "lst = np.array(lst).astype('float64')\n",
    "lst /= lst.sum()\n",
    "print(lst)"
   ]
  },
  {
   "cell_type": "code",
   "execution_count": 24,
   "metadata": {},
   "outputs": [],
   "source": [
    "features, labels = x, h"
   ]
  },
  {
   "cell_type": "code",
   "execution_count": 34,
   "metadata": {},
   "outputs": [],
   "source": [
    "# Model parameters.\n",
    "lr = 3\n",
    "epochs = 2000\n",
    "batch_size = 100"
   ]
  },
  {
   "cell_type": "code",
   "execution_count": 58,
   "metadata": {},
   "outputs": [],
   "source": [
    "dataset = data.TensorDataset(torch.FloatTensor(x), torch.FloatTensor(h))\n",
    "train_dl = torch.utils.data.DataLoader(dataset, batch_size=batch_size, shuffle=False)"
   ]
  },
  {
   "cell_type": "code",
   "execution_count": 59,
   "metadata": {},
   "outputs": [],
   "source": [
    "from torch import nn"
   ]
  },
  {
   "cell_type": "code",
   "execution_count": 60,
   "metadata": {},
   "outputs": [],
   "source": [
    "net = nn.Sequential(nn.Linear(num_obs, num_hidden_state, bias=False))"
   ]
  },
  {
   "cell_type": "code",
   "execution_count": 61,
   "metadata": {},
   "outputs": [],
   "source": [
    "loss = nn.MSELoss()"
   ]
  },
  {
   "cell_type": "code",
   "execution_count": 62,
   "metadata": {},
   "outputs": [],
   "source": [
    "trainer = torch.optim.SGD(net.parameters(), lr=lr)"
   ]
  },
  {
   "cell_type": "code",
   "execution_count": 63,
   "metadata": {},
   "outputs": [
    {
     "name": "stdout",
     "output_type": "stream",
     "text": [
      "epoch:  0\n",
      "loss:  tensor(0.3347, grad_fn=<AddBackward0>)\n",
      "epoch:  100\n",
      "loss:  tensor(0.0069, grad_fn=<AddBackward0>)\n",
      "epoch:  200\n",
      "loss:  tensor(0.0055, grad_fn=<AddBackward0>)\n",
      "epoch:  300\n",
      "loss:  tensor(0.0043, grad_fn=<AddBackward0>)\n",
      "epoch:  400\n",
      "loss:  tensor(0.0034, grad_fn=<AddBackward0>)\n",
      "epoch:  500\n",
      "loss:  tensor(0.0027, grad_fn=<AddBackward0>)\n",
      "epoch:  600\n",
      "loss:  tensor(0.0021, grad_fn=<AddBackward0>)\n",
      "epoch:  700\n",
      "loss:  tensor(0.0017, grad_fn=<AddBackward0>)\n",
      "epoch:  800\n",
      "loss:  tensor(0.0013, grad_fn=<AddBackward0>)\n",
      "epoch:  900\n",
      "loss:  tensor(0.0010, grad_fn=<AddBackward0>)\n",
      "epoch:  1000\n",
      "loss:  tensor(0.0008, grad_fn=<AddBackward0>)\n",
      "epoch:  1100\n",
      "loss:  tensor(0.0006, grad_fn=<AddBackward0>)\n",
      "epoch:  1200\n",
      "loss:  tensor(0.0005, grad_fn=<AddBackward0>)\n",
      "epoch:  1300\n",
      "loss:  tensor(0.0004, grad_fn=<AddBackward0>)\n",
      "epoch:  1400\n",
      "loss:  tensor(0.0003, grad_fn=<AddBackward0>)\n",
      "epoch:  1500\n",
      "loss:  tensor(0.0002, grad_fn=<AddBackward0>)\n",
      "epoch:  1600\n",
      "loss:  tensor(0.0002, grad_fn=<AddBackward0>)\n",
      "epoch:  1700\n",
      "loss:  tensor(0.0002, grad_fn=<AddBackward0>)\n",
      "epoch:  1800\n",
      "loss:  tensor(0.0001, grad_fn=<AddBackward0>)\n",
      "epoch:  1900\n",
      "loss:  tensor(9.4689e-05, grad_fn=<AddBackward0>)\n"
     ]
    }
   ],
   "source": [
    "total_loss_lst = []\n",
    "for i in range(epochs):\n",
    "    total_loss = 0\n",
    "    for X, y in train_dl:\n",
    "        l = loss(net(X) ,y)\n",
    "        total_loss += l\n",
    "        trainer.zero_grad()\n",
    "        l.backward()\n",
    "        trainer.step()\n",
    "    if (i % 100 == 0):\n",
    "        print(\"epoch: \", i)\n",
    "        print(\"loss: \", total_loss)\n",
    "        total_loss_lst.append(total_loss.item())"
   ]
  },
  {
   "cell_type": "code",
   "execution_count": 64,
   "metadata": {
    "scrolled": true
   },
   "outputs": [
    {
     "data": {
      "text/plain": [
       "[0.33469662070274353,\n",
       " 0.0069283959455788136,\n",
       " 0.005458314903080463,\n",
       " 0.004300158005207777,\n",
       " 0.003387742443010211,\n",
       " 0.0026689220685511827,\n",
       " 0.0021026271861046553,\n",
       " 0.001656488049775362,\n",
       " 0.0013050104025751352,\n",
       " 0.0010281108552590013,\n",
       " 0.000809963617939502,\n",
       " 0.0006381042767316103,\n",
       " 0.0005027090664952993,\n",
       " 0.00039604518678970635,\n",
       " 0.0003120098845101893,\n",
       " 0.00024580745957791805,\n",
       " 0.00019365159096196294,\n",
       " 0.0001525621919427067,\n",
       " 0.00012019075074931607,\n",
       " 9.468877397011966e-05]"
      ]
     },
     "execution_count": 64,
     "metadata": {},
     "output_type": "execute_result"
    }
   ],
   "source": [
    "total_loss_lst"
   ]
  },
  {
   "cell_type": "code",
   "execution_count": 75,
   "metadata": {},
   "outputs": [
    {
     "data": {
      "image/png": "[encoded data removed]",
      "text/plain": [
       "<Figure size 432x288 with 1 Axes>"
      ]
     },
     "metadata": {
      "needs_background": "light"
     },
     "output_type": "display_data"
    }
   ],
   "source": [
    "import matplotlib.pyplot as plt\n",
    "x_lst = list(range(0, 2000, 100))\n",
    "plt.plot(x_lst, total_loss_lst)\n",
    "plt.yscale('log')\n",
    "plt.xlabel(\"epochs\")\n",
    "plt.ylabel(\"training loss\")\n",
    "plt.show()"
   ]
  },
  {
   "cell_type": "code",
   "execution_count": 83,
   "metadata": {},
   "outputs": [
    {
     "name": "stdout",
     "output_type": "stream",
     "text": [
      "learned matrix:\n",
      "[[ 0.33444914  2.606148   -1.7460089 ]\n",
      " [-0.01350728  0.07900791  0.98299867]\n",
      " [-0.03453552 -0.19923699  0.5129726 ]\n",
      " [ 2.088948   -1.8289478   0.6197184 ]\n",
      " [-0.54350334  3.745206   -2.5466576 ]]\n",
      "pseudo-inv of O:\n",
      "[[ 5.33398346e-01  2.62833064e+00 -1.97029301e+00]\n",
      " [-9.48583761e-03 -2.97974301e-03  1.06001933e+00]\n",
      " [ 9.08540466e-02 -4.56127065e-01  3.45443693e-01]\n",
      " [ 1.96231049e+00 -1.81806331e+00  7.42823603e-01]\n",
      " [-7.82054374e-01  4.31680259e+00 -2.80659284e+00]]\n",
      "Frob norm of difference:0.8338665632026157\n"
     ]
    }
   ],
   "source": [
    "print(\"learned matrix:\")\n",
    "print(net[0].weight.data.T.numpy())\n",
    "print(\"pseudo-inv of O:\")\n",
    "print(np.linalg.pinv(obs_mat))\n",
    "print(\"Frob norm of difference:\" + str(np.linalg.norm(net[0].weight.data.T.numpy()-np.linalg.pinv(obs_mat))))"
   ]
  },
  {
   "cell_type": "code",
   "execution_count": 77,
   "metadata": {},
   "outputs": [
    {
     "data": {
      "text/plain": [
       "array([[ 5.33398346e-01,  2.62833064e+00, -1.97029301e+00],\n",
       "       [-9.48583761e-03, -2.97974301e-03,  1.06001933e+00],\n",
       "       [ 9.08540466e-02, -4.56127065e-01,  3.45443693e-01],\n",
       "       [ 1.96231049e+00, -1.81806331e+00,  7.42823603e-01],\n",
       "       [-7.82054374e-01,  4.31680259e+00, -2.80659284e+00]])"
      ]
     },
     "execution_count": 77,
     "metadata": {},
     "output_type": "execute_result"
    }
   ],
   "source": [
    "np.linalg.pinv(obs_mat)"
   ]
  },
  {
   "cell_type": "code",
   "execution_count": 78,
   "metadata": {},
   "outputs": [
    {
     "name": "stdout",
     "output_type": "stream",
     "text": [
      "tensor([[0.1470, 0.6372, 0.0226, 0.1077, 0.0855],\n",
      "        [0.1655, 0.5836, 0.0216, 0.1570, 0.0723],\n",
      "        [0.2196, 0.4376, 0.0169, 0.2701, 0.0557],\n",
      "        [0.1634, 0.6010, 0.0197, 0.1192, 0.0966],\n",
      "        [0.2299, 0.4131, 0.0154, 0.2828, 0.0588],\n",
      "        [0.2056, 0.4799, 0.0173, 0.2281, 0.0690],\n",
      "        [0.1830, 0.5376, 0.0199, 0.1903, 0.0693],\n",
      "        [0.1513, 0.6227, 0.0227, 0.1251, 0.0783],\n",
      "        [0.1351, 0.6725, 0.0231, 0.0737, 0.0956]])\n",
      "tensor([[0.2189, 0.5474, 0.2337],\n",
      "        [0.3362, 0.4500, 0.2138],\n",
      "        [0.6010, 0.3178, 0.0812],\n",
      "        [0.2416, 0.6192, 0.1392],\n",
      "        [0.6292, 0.3354, 0.0355],\n",
      "        [0.5004, 0.4144, 0.0852],\n",
      "        [0.4135, 0.4236, 0.1629],\n",
      "        [0.2611, 0.4959, 0.2430],\n",
      "        [0.1376, 0.6214, 0.2411]])\n",
      "tensor([[-6.0388e-04,  4.7440e-03, -3.3621e-03],\n",
      "        [-8.5226e-04,  6.6962e-03, -4.7455e-03],\n",
      "        [-6.9201e-05,  5.4520e-04, -3.8634e-04],\n",
      "        [ 7.3947e-04, -5.8121e-03,  4.1189e-03],\n",
      "        [ 5.0008e-04, -3.9281e-03,  2.7840e-03],\n",
      "        [ 3.4469e-04, -2.7081e-03,  1.9193e-03],\n",
      "        [-4.3735e-04,  3.4367e-03, -2.4356e-03],\n",
      "        [-9.4622e-04,  7.4342e-03, -5.2687e-03],\n",
      "        [-3.3252e-04,  2.6111e-03, -1.8506e-03]])\n",
      "tensor([[0.2189, 0.5474, 0.2337],\n",
      "        [0.3362, 0.4500, 0.2138],\n",
      "        [0.6010, 0.3178, 0.0812],\n",
      "        [0.2416, 0.6192, 0.1392],\n",
      "        [0.6292, 0.3354, 0.0355],\n",
      "        [0.5004, 0.4144, 0.0852],\n",
      "        [0.4135, 0.4236, 0.1629],\n",
      "        [0.2611, 0.4959, 0.2430],\n",
      "        [0.1376, 0.6214, 0.2411]], dtype=torch.float64)\n",
      "tensor([[-0.1989, -0.0222,  0.2243],\n",
      "        [-0.0040,  0.0820, -0.0770],\n",
      "        [-0.1254,  0.2569,  0.1675],\n",
      "        [ 0.1266, -0.0109, -0.1231],\n",
      "        [ 0.2386, -0.5716,  0.2599]], dtype=torch.float64)\n"
     ]
    }
   ],
   "source": [
    "for X, y in train_dl:\n",
    "    print(X[:9])\n",
    "    print(y[:9])\n",
    "    print((X @ net[0].weight.data.T - y)[:9])\n",
    "    print((X.double() @ torch.from_numpy(np.linalg.pinv(obs_mat)))[:9])\n",
    "    print(net[0].weight.data.T.double() - torch.from_numpy(np.linalg.pinv(obs_mat)))\n",
    "    break"
   ]
  },
  {
   "cell_type": "code",
   "execution_count": 109,
   "metadata": {},
   "outputs": [
    {
     "data": {
      "text/plain": [
       "(array([[0.10659928, 0.02308308, 0.30843146, 0.04712147, 0.51476471],\n",
       "        [0.11266594, 0.02707417, 0.3144569 , 0.05527557, 0.49052742],\n",
       "        [0.10924114, 0.04002508, 0.2982135 , 0.08161441, 0.47090587],\n",
       "        ...,\n",
       "        [0.12111725, 0.01954281, 0.33390811, 0.0399925 , 0.48543933],\n",
       "        [0.08804524, 0.07371188, 0.23693078, 0.15006043, 0.45125167],\n",
       "        [0.08846542, 0.0729027 , 0.23826504, 0.14841584, 0.45195101]]),\n",
       " array([[0.3369734 , 0.54410674, 0.11891986],\n",
       "        [0.35988624, 0.50046146, 0.13965229],\n",
       "        [0.35111199, 0.44198166, 0.20690635],\n",
       "        ...,\n",
       "        [0.38822297, 0.51122894, 0.10054809],\n",
       "        [0.28409307, 0.33407683, 0.38183009],\n",
       "        [0.28538292, 0.33698888, 0.3776282 ]]))"
      ]
     },
     "execution_count": 109,
     "metadata": {},
     "output_type": "execute_result"
    }
   ],
   "source": [
    "x, h"
   ]
  },
  {
   "cell_type": "code",
   "execution_count": 116,
   "metadata": {},
   "outputs": [
    {
     "data": {
      "text/plain": [
       "array([[ 0.70946001, -0.25856422,  0.16254959],\n",
       "       [ 0.13386227, -0.53187938,  1.00319817],\n",
       "       [ 1.33246609, -0.05937896, -0.08454823],\n",
       "       [ 0.27525784, -1.08351973,  2.04118875],\n",
       "       [-0.32187423,  1.26915907,  0.01617982]])"
      ]
     },
     "execution_count": 116,
     "metadata": {},
     "output_type": "execute_result"
    }
   ],
   "source": [
    "np.linalg.pinv(obs_mat)"
   ]
  },
  {
   "cell_type": "code",
   "execution_count": 182,
   "metadata": {},
   "outputs": [
    {
     "name": "stdout",
     "output_type": "stream",
     "text": [
      "transition matrix\n",
      "[[0.42265632 0.22411211 0.35323157]\n",
      " [0.46122757 0.40080087 0.13797155]\n",
      " [0.04676753 0.5609235  0.39230897]]\n",
      "observation matrix\n",
      "[[2.92681512e-01 1.50206764e-04 6.16017949e-01 1.42344315e-03\n",
      "  8.97268893e-02]\n",
      " [1.46534926e-02 2.00898243e-04 1.85346850e-01 7.24383169e-05\n",
      "  7.99726321e-01]\n",
      " [2.77131417e-06 1.92761368e-01 1.11532894e-05 3.91880687e-01\n",
      "  4.15344020e-01]]\n",
      "stationary distribution\n",
      "[0.33200907 0.38711344 0.28087749]\n",
      "states and observations, first half of each row is states\n",
      "[[0. 0. 0. ... 4. 4. 4.]\n",
      " [2. 2. 2. ... 4. 3. 4.]\n",
      " [2. 1. 1. ... 4. 1. 4.]\n",
      " ...\n",
      " [0. 0. 1. ... 2. 4. 4.]\n",
      " [1. 1. 2. ... 4. 4. 4.]\n",
      " [2. 1. 0. ... 4. 4. 4.]]\n",
      "positions:  [9 7 6 7 1 1 5 5 4 3 4 0 8 0 0 7 1 3 3 1 7 8 3 7 1 0 9 8 0 6 2 0 0 9 4 4 8\n",
      " 0 8 1 9 4 3 3 3 4 9 2 6 4 1 7 0 0 6 8 5 4 5 1 5 9 1 7 7 7 9 7 4 8 9 8 2 3\n",
      " 6 6 7 8 3 6 6 3 2 7 0 9 8 6 8 4 6 1 7 4 2 8 9 1 9 8 8 1 6 5 6 1 3 6 6 7 9\n",
      " 3 5 0 6 4 6 3 0 6 3 8 9 0 0 4 6 7 8 9 5 4 6 3 2 8 6 0 9 2 4 0 1 5 3 8 6 2\n",
      " 6 6 3 4 9 7 7 5 1 4 4 0 2 3 1 4 4 6 0 8 7 7 8 9 6 8 6 4 7 7 3 9 9 5 6 8 5\n",
      " 0 0 7 4 3 8 8 1 7 4 3 5 4 8 4 8 9 4 8 5 5 2 3 9 8 1 0 0 5 8 0 0 1 1 3 2 6\n",
      " 4 3 0 8 2 1 7 0 9 4 3 2 2 3 6 5 1 1 5 1 0 0 9 4 1 2 0 4 6 1 0 5 0 6 5 5 2\n",
      " 9 7 9 3 7 7 6 1 4 7 7 7 8 9 1 5 8 9 4 0 8 5 1 4 7 0 0 1 3 4 7 9 8 8 6 2 7\n",
      " 7 1 5 1 9 7 8 6 6 4 8 0 3 9 0 1 2 8 7 0 3 8 6 6 2 7 3 9 3 8 0 6 2 8 6 8 6\n",
      " 1 3 4 7 0 7 2 3 1 1 1 1 0 7 2 7 4 3 6 8 8 1 6 4 6 0 8 0 6 1 8 4 6 4 4 3 5\n",
      " 0 0 9 5 3 0 2 2 9 3 2 4 5 4 3 2 5 8 1 4 5 9 8 3 1 7 7 1 9 7 8 0 8 6 5 1 0\n",
      " 5 0 1 3 3 3 9 5 6 6 3 7 5 0 2 7 4 7 2 0 8 7 6 4 7 4 9 3 5 0 7 9 0 5 9 1 3\n",
      " 3 8 2 8 7 8 2 0 0 8 0 8 6 1 9 1 7 0 0 9 3 7 6 2 9 5 5 5 5 1 4 1 8 1 8 6 3\n",
      " 8 7 7 0 7 4 5 8 9 2 6 4 6 0 5 7 0 5 8 3 6 6 8 1 4 1 8 0 4 7 1 8 1 4 4 7 9\n",
      " 5 5 1 2 3 8 5 6 2 9 7 0 4 6 0 9 6 0 0 6 7 8 7 6 0 7 9 2 2 4 5 9 1 4 3 6 1\n",
      " 1 1 5 4 2 4 9 7 2 7 9 7 9 5 3 2 8 8 3 5 8 2 3 9 5 0 9 1 4 3 4 3 9 9 2 2 4\n",
      " 3 5 1 6 4 6 8 5 1 6 5 5 1 5 7 7 7 7 7 2 9 8 4 9 8 2 9 5 8 0 7 0 5 3 4 2 5\n",
      " 7 4 4 9 2 0 3 9 4 4 3 8 0 0 1 4 9 9 8 7 4 0 6 2 3 2 8 1 6 9 5 2 6 6 7 9 7\n",
      " 1 6 6 9 1 9 3 7 6 5 7 9 8 8 1 6 2 8 8 8 6 2 7 7 1 5 4 6 7 5 1 9 6 2 3 4 5\n",
      " 5 6 8 0 5 3 3 4 2 3 5 3 9 5 3 0 5 3 3 7 9 9 7 4 1 6 0 4 7 6 8 5 5 7 8 0 0\n",
      " 3 2 3 3 2 6 5 2 0 6 3 4 6 4 7 7 2 9 1 1 4 3 3 9 9 2 2 5 1 8 5 5 9 1 8 4 9\n",
      " 6 9 7 6 6 1 1 5 7 0 8 2 7 0 1 9 3 7 7 5 8 4 2 1 9 2 3 9 4 8 5 6 0 4 9 8 3\n",
      " 9 4 8 7 0 1 7 9 2 1 9 5 2 0 7 8 3 8 4 4 7 7 4 9 1 1 5 2 8 6 1 9 9 6 3 8 7\n",
      " 2 4 8 3 0 1 5 3 6 2 7 8 2 1 5 6 7 9 7 7 4 8 4 6 9 3 0 7 7 1 1 4 0 0 0 2 0\n",
      " 9 8 3 1 4 4 9 0 1 3 7 2 8 0 6 6 8 5 7 9 0 5 8 6 0 3 1 9 1 0 6 9 2 1 1 4 7\n",
      " 8 3 9 7 1 5 5 1 6 4 7 5 1 3 3 6 0 5 1 9 2 9 5 1 7 1 0 6 2 7 6 7 4 2 4 7 5\n",
      " 4 1 9 9 5 6 1 7 6 9 7 8 5 6 2 0 0 0 1 3 0 0 8 8 9 9 0 8 1 9 5 1 1 2 6 6 5\n",
      " 5]\n"
     ]
    }
   ],
   "source": [
    "states, obs = generate_HMM_sequences(trans_mat, obs_mat, stat_dist, length, num_samples) # generate sample sequences\n",
    "\n",
    "pos = np.random.randint(length, size = num_samples)\n",
    "\n",
    "print(\"transition matrix\")\n",
    "print(trans_mat)\n",
    "print(\"observation matrix\")\n",
    "print(obs_mat)\n",
    "print(\"stationary distribution\")\n",
    "print(stat_dist)\n",
    "print(\"states and observations, first half of each row is states\")\n",
    "print(np.concatenate((states, obs), axis = 1))\n",
    "print(\"positions: \", pos)\n",
    "h, x = x_i_conditional_prob(trans_mat, obs_mat, stat_dist, obs, pos)"
   ]
  },
  {
   "cell_type": "code",
   "execution_count": 186,
   "metadata": {},
   "outputs": [
    {
     "data": {
      "text/plain": [
       "tensor([[ 5.2449e-09, -8.7515e-08,  9.4320e-08],\n",
       "        [-2.3336e-07,  4.2445e-07, -3.8074e-07],\n",
       "        [-1.5459e-07,  2.8853e-07, -2.7494e-07],\n",
       "        ...,\n",
       "        [-7.1988e-08,  8.2092e-09,  4.8466e-08],\n",
       "        [-2.2446e-08,  1.4187e-08, -2.6014e-08],\n",
       "        [-1.3576e-07,  2.3927e-07, -2.2379e-07]], dtype=torch.float64)"
      ]
     },
     "execution_count": 186,
     "metadata": {},
     "output_type": "execute_result"
    }
   ],
   "source": [
    "torch.from_numpy(x) @ net[0].weight.data.T.double() - torch.from_numpy(h)"
   ]
  },
  {
   "cell_type": "code",
   "execution_count": 201,
   "metadata": {},
   "outputs": [
    {
     "data": {
      "text/plain": [
       "array([[-0.9488476 , -1.6940934 , -0.84618815]])"
      ]
     },
     "execution_count": 201,
     "metadata": {},
     "output_type": "execute_result"
    }
   ],
   "source": [
    "logh = np.log(h)"
   ]
  },
  {
   "cell_type": "code",
   "execution_count": 84,
   "metadata": {},
   "outputs": [
    {
     "data": {
      "text/plain": [
       "Sequential(\n",
       "  (0): Linear(in_features=5, out_features=3, bias=False)\n",
       ")"
      ]
     },
     "execution_count": 84,
     "metadata": {},
     "output_type": "execute_result"
    }
   ],
   "source": [
    "net.eval()"
   ]
  },
  {
   "cell_type": "code",
   "execution_count": 85,
   "metadata": {},
   "outputs": [
    {
     "name": "stdout",
     "output_type": "stream",
     "text": [
      "transition matrix:\n",
      "[[0.19038151 0.5603291  0.24928939]\n",
      " [0.59211519 0.37810341 0.0297814 ]\n",
      " [0.52737761 0.34205379 0.1305686 ]]\n",
      "observation matrix:\n",
      "[[2.84422161e-01 2.51497236e-01 1.31816210e-02 4.38026768e-01\n",
      "  1.28722143e-02]\n",
      " [1.50940815e-01 6.59969385e-01 1.64551320e-02 2.15946003e-02\n",
      "  1.51040067e-01]\n",
      " [9.01408117e-03 9.45219115e-01 4.57668030e-02 7.87716140e-11\n",
      "  4.61558184e-10]]\n",
      "stationary distribution:\n",
      "[0.41619456 0.44908825 0.1347172 ]\n",
      "states and observations, first half of each row is states, only showing first 5:\n",
      "[[0. 1. 0. 0. 2. 1. 0. 2. 0. 2. 0. 0. 0. 0. 1. 0. 3. 1. 1. 1.]\n",
      " [0. 2. 0. 1. 1. 0. 2. 1. 0. 1. 3. 1. 3. 4. 1. 3. 1. 4. 0. 1.]\n",
      " [1. 0. 1. 0. 2. 0. 1. 1. 0. 1. 1. 0. 1. 1. 1. 0. 0. 1. 1. 1.]\n",
      " [2. 0. 0. 1. 0. 1. 0. 2. 2. 1. 1. 1. 1. 1. 1. 4. 3. 1. 1. 0.]\n",
      " [0. 1. 0. 1. 1. 1. 0. 1. 1. 1. 3. 1. 1. 1. 1. 1. 0. 1. 1. 1.]]\n",
      "positions, only showing first 5:  [2 2 5 8 1]\n",
      "Pr[H_i|x_-i], j-th row is for j-th sample and i=positions[j], only showing first 5:\n",
      "[[0.2431274  0.58828537 0.16858724]\n",
      " [0.59621374 0.33723514 0.06655112]\n",
      " [0.34529973 0.53576977 0.11893049]\n",
      " [0.42479842 0.48089777 0.0943038 ]\n",
      " [0.26754286 0.49347438 0.23898276]]\n",
      "Pr[X_i|x_-i], j-th row is for j-th sample and i=positions[j], only showing first 5:\n",
      "[[0.15946675 0.60874808 0.02060083 0.1192001  0.09198425]\n",
      " [0.22107884 0.43541637 0.01645414 0.26844003 0.05861061]\n",
      " [0.18015247 0.55284895 0.01881084 0.16282026 0.08536747]\n",
      " [0.19425925 0.51335119 0.01782875 0.19645788 0.07810293]\n",
      " [0.15273475 0.61885535 0.02258431 0.12784731 0.07797827]]\n",
      "Pr[H_i|x_i,x_-i], j-th row is for j-th sample and i=positions[j], only showing first 5:\n",
      "[[4.33637854e-01 5.56832517e-01 9.52962935e-03]\n",
      " [9.72871192e-01 2.71288079e-02 1.95289028e-11]\n",
      " [5.45154307e-01 4.48894905e-01 5.95078777e-03]\n",
      " [2.08114115e-01 6.18246942e-01 1.73638943e-01]\n",
      " [1.08727006e-01 5.26258660e-01 3.65014334e-01]]\n"
     ]
    }
   ],
   "source": [
    "states, obs = generate_HMM_sequences(trans_mat, obs_mat, stat_dist, length, num_samples) # generate sample sequences\n",
    "\n",
    "pos = np.random.randint(length, size = num_samples)\n",
    "\n",
    "print(\"transition matrix:\")\n",
    "print(trans_mat)\n",
    "print(\"observation matrix:\")\n",
    "print(obs_mat)\n",
    "print(\"stationary distribution:\")\n",
    "print(stat_dist)\n",
    "print(\"states and observations, first half of each row is states, only showing first 5:\")\n",
    "print(np.concatenate((states, obs), axis = 1)[:5])\n",
    "print(\"positions, only showing first 5: \", pos[:5])\n",
    "h, x, hh = x_i_conditional_prob(trans_mat, obs_mat, stat_dist, obs, pos)\n",
    "print(\"Pr[H_i|x_-i], j-th row is for j-th sample and i=positions[j], only showing first 5:\")\n",
    "print(h[:5])\n",
    "print(\"Pr[X_i|x_-i], j-th row is for j-th sample and i=positions[j], only showing first 5:\")\n",
    "print(x[:5])\n",
    "print(\"Pr[H_i|x_i,x_-i], j-th row is for j-th sample and i=positions[j], only showing first 5:\")\n",
    "print(hh[:5])"
   ]
  },
  {
   "cell_type": "code",
   "execution_count": 98,
   "metadata": {},
   "outputs": [],
   "source": [
    "test_dataset = data.TensorDataset(torch.FloatTensor(x), torch.FloatTensor(h))\n",
    "test_dl = torch.utils.data.DataLoader(test_dataset, batch_size=num_samples, shuffle=False)"
   ]
  },
  {
   "cell_type": "code",
   "execution_count": 104,
   "metadata": {},
   "outputs": [
    {
     "name": "stdout",
     "output_type": "stream",
     "text": [
      "0.0001440732181072235\n"
     ]
    }
   ],
   "source": [
    "for X, Y in test_dl:\n",
    "    print(np.linalg.norm((net(X) - Y).detach().numpy()) / num_samples)\n",
    "    break"
   ]
  },
  {
   "cell_type": "code",
   "execution_count": 95,
   "metadata": {},
   "outputs": [
    {
     "data": {
      "text/plain": [
       "(array([[0.15946675, 0.60874808, 0.02060083, 0.1192001 , 0.09198425],\n",
       "        [0.22107884, 0.43541637, 0.01645414, 0.26844003, 0.05861061],\n",
       "        [0.18015247, 0.55284895, 0.01881084, 0.16282026, 0.08536747],\n",
       "        [0.19425925, 0.51335119, 0.01782875, 0.19645788, 0.07810293],\n",
       "        [0.15273475, 0.61885535, 0.02258431, 0.12784731, 0.07797827],\n",
       "        [0.14444756, 0.64402029, 0.02282135, 0.10254428, 0.08616652],\n",
       "        [0.13312961, 0.67788521, 0.02323228, 0.06940934, 0.09634355],\n",
       "        [0.22088319, 0.43291219, 0.01699663, 0.27659684, 0.05261115],\n",
       "        [0.17402433, 0.57167964, 0.01894767, 0.14348231, 0.09186606]]),\n",
       " array([[0.2431274 , 0.58828537, 0.16858724],\n",
       "        [0.59621374, 0.33723514, 0.06655112],\n",
       "        [0.34529973, 0.53576977, 0.11893049],\n",
       "        [0.42479842, 0.48089777, 0.0943038 ],\n",
       "        [0.26754286, 0.49347438, 0.23898276],\n",
       "        [0.20684923, 0.55285937, 0.2402914 ],\n",
       "        [0.12754834, 0.62699737, 0.24545429],\n",
       "        [0.61688051, 0.29575285, 0.08736664],\n",
       "        [0.29883548, 0.58275521, 0.1184093 ]]))"
      ]
     },
     "execution_count": 95,
     "metadata": {},
     "output_type": "execute_result"
    }
   ],
   "source": [
    "x[:9], h[:9]"
   ]
  },
  {
   "cell_type": "code",
   "execution_count": null,
   "metadata": {},
   "outputs": [],
   "source": []
  }
 ],
 "metadata": {
  "kernelspec": {
   "display_name": "Python 3",
   "language": "python",
   "name": "python3"
  },
  "language_info": {
   "codemirror_mode": {
    "name": "ipython",
    "version": 3
   },
   "file_extension": ".py",
   "mimetype": "text/x-python",
   "name": "python",
   "nbconvert_exporter": "python",
   "pygments_lexer": "ipython3",
   "version": "3.7.2"
  }
 },
 "nbformat": 4,
 "nbformat_minor": 4
}
