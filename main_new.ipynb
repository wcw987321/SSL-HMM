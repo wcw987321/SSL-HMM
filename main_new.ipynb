{
 "cells": [
  {
   "cell_type": "code",
   "execution_count": 1,
   "metadata": {},
   "outputs": [],
   "source": [
    "import numpy as np\n",
    "import torch"
   ]
  },
  {
   "cell_type": "code",
   "execution_count": 2,
   "metadata": {},
   "outputs": [],
   "source": [
    "#parameter setting\n",
    "num_hidden_state = 3\n",
    "num_obs = 5\n",
    "length = 3\n",
    "num_samples = 1"
   ]
  },
  {
   "cell_type": "code",
   "execution_count": 3,
   "metadata": {},
   "outputs": [],
   "source": [
    "#define some useful functions\n",
    "def generate_HMM_params(num_hidden_state, num_obs):\n",
    "    # random generate the transition matrix and observation matrix, and compute the stationary distribution\n",
    "    \n",
    "    alpha_state = np.ones(num_hidden_state)\n",
    "    alpha_obs = np.ones(num_obs) / num_obs\n",
    "    trans_mat = np.random.dirichlet(alpha_state, num_hidden_state)\n",
    "    obs_mat = np.random.dirichlet(alpha_obs, num_hidden_state)\n",
    "    tmp = np.ones((num_hidden_state + 1, num_hidden_state))\n",
    "    tmp[:-1] = np.identity(num_hidden_state) - trans_mat.T\n",
    "    tmp_v = np.zeros(num_hidden_state + 1)\n",
    "    tmp_v[-1] = 1\n",
    "    stat_dist = np.linalg.lstsq(tmp, tmp_v, rcond=None)[0]\n",
    "    return trans_mat, obs_mat, stat_dist"
   ]
  },
  {
   "cell_type": "code",
   "execution_count": 4,
   "metadata": {
    "scrolled": true
   },
   "outputs": [
    {
     "name": "stdout",
     "output_type": "stream",
     "text": [
      "[[0.31171752 0.14466132 0.54362116]\n",
      " [0.48262276 0.41041321 0.10696403]\n",
      " [0.63493906 0.18155131 0.18350963]]\n",
      "[[5.31183612e-03 3.18727100e-01 4.60386268e-01 1.87884837e-01\n",
      "  2.76899589e-02]\n",
      " [1.39397202e-03 1.01159214e-04 8.84424090e-01 2.97764010e-02\n",
      "  8.43043777e-02]\n",
      " [3.88117700e-03 2.36483698e-01 1.76779583e-02 7.20955470e-01\n",
      "  2.10016963e-02]]\n",
      "[0.45524953 0.21365455 0.33109592]\n",
      "[0.45524953 0.21365455 0.33109592]\n"
     ]
    }
   ],
   "source": [
    "trans_mat, obs_mat, stat_dist = generate_HMM_params(num_hidden_state, num_obs) # generate parameters for HMM\n",
    "print(trans_mat)\n",
    "print(obs_mat)\n",
    "print(stat_dist)\n",
    "print(stat_dist @ trans_mat)"
   ]
  },
  {
   "cell_type": "code",
   "execution_count": 5,
   "metadata": {},
   "outputs": [],
   "source": [
    "def generate_HMM_sequences(trans_mat, obs_mat, init_dist, length, num_samples = 1):\n",
    "    # generate sample sequences from HMM\n",
    "    \n",
    "    states = np.zeros((num_samples, length))\n",
    "    obs = np.zeros((num_samples, length))\n",
    "    tmp_state = np.argmax(np.random.multinomial(1, init_dist, num_samples), axis = 1)\n",
    "    #print(tmp_state)\n",
    "    for i in range(length):\n",
    "        #print(\"i: \", i)\n",
    "        states[:, i] = tmp_state\n",
    "        for j in range(num_samples):\n",
    "            obs[j, i] = np.random.multinomial(1, obs_mat[tmp_state[j]]).argmax()\n",
    "            tmp_state[j] = np.random.multinomial(1, trans_mat[tmp_state[j]]).argmax()\n",
    "        #print(\"obs[:, i]: \", obs[:, i])\n",
    "    return states, obs"
   ]
  },
  {
   "cell_type": "code",
   "execution_count": 10,
   "metadata": {},
   "outputs": [
    {
     "name": "stdout",
     "output_type": "stream",
     "text": [
      "[213, 14394, 21011, 8542, 1279]\n",
      "[0.0046876  0.31677634 0.46240014 0.18798829 0.02814763]\n"
     ]
    }
   ],
   "source": [
    "test_states, test_obs = generate_HMM_sequences(trans_mat, obs_mat, stat_dist, length, 100000)\n",
    "lst = [0, 0, 0, 0, 0]\n",
    "for i in range(test_states.shape[0]):\n",
    "    if (test_states[i, 0] == 0.0): # and (test_states[i, 1] == 2.0):\n",
    "        lst[int(test_obs[i, 0])] += 1\n",
    "print(lst)\n",
    "lst = np.array(lst).astype('float64')\n",
    "lst /= lst.sum()\n",
    "print(lst)"
   ]
  },
  {
   "cell_type": "code",
   "execution_count": 11,
   "metadata": {},
   "outputs": [],
   "source": [
    "def forward_compute(trans_mat, obs_mat, init_dist, obs_to_pos):\n",
    "    # compute \\sum_{h_1,...,h_{pos-1}} P(h_1,...,h_{pos},x_1,...,x_{pos-1})\n",
    "    pos = obs_to_pos.shape[0] + 1\n",
    "    num_hidden_state = trans_mat.shape[0]\n",
    "    num_obs = obs_mat.shape[1]\n",
    "    forward = np.zeros((pos, num_hidden_state))\n",
    "    forward[0] = init_dist\n",
    "    for i in range(1, pos):\n",
    "        for j in range(num_hidden_state):\n",
    "            for k in range(num_hidden_state):\n",
    "                #print(i, j, k)\n",
    "                #print(forward[i - 1, k], trans_mat[k, j], obs_mat[k, int(obs_to_pos[i - 1])])\n",
    "                forward[i, j] += forward[i - 1, k] * trans_mat[k, j] * obs_mat[k, int(obs_to_pos[i - 1])]\n",
    "    #print(\"forward: \", forward)\n",
    "    return forward[pos - 1]"
   ]
  },
  {
   "cell_type": "code",
   "execution_count": 12,
   "metadata": {},
   "outputs": [],
   "source": [
    "def backward_compute(trans_mat, obs_mat, obs_from_pos):\n",
    "    num_hidden_state = trans_mat.shape[0]\n",
    "    num_obs = obs_mat.shape[1]\n",
    "    back_length = obs_from_pos.shape[0]\n",
    "    if (back_length == 0):\n",
    "        return np.ones(num_hidden_state)\n",
    "    backward = np.zeros((back_length, num_hidden_state))\n",
    "    for j in range(num_hidden_state):\n",
    "         for k in range(num_hidden_state):\n",
    "            backward[0, j] += trans_mat[j, k] * obs_mat[k, int(obs_from_pos[-1])]\n",
    "    for i in range(1, back_length):\n",
    "        for j in range(num_hidden_state):\n",
    "            for k in range(num_hidden_state):\n",
    "                backward[i, j] += trans_mat[j, k] * obs_mat[k, int(obs_from_pos[-(i + 1)])] * backward[i - 1, k]\n",
    "    #print(\"backward: \", backward)\n",
    "    return backward[-1]"
   ]
  },
  {
   "cell_type": "code",
   "execution_count": 13,
   "metadata": {},
   "outputs": [],
   "source": [
    "def x_i_conditional_prob(trans_mat, obs_mat, init_dist, known_X, pos):\n",
    "    num_hidden_state = trans_mat.shape[0]\n",
    "    num_obs = obs_mat.shape[1]\n",
    "    num_samples = known_X.shape[0]\n",
    "    length = known_X.shape[1]\n",
    "    x_pos_conditional_prob = np.zeros((num_samples, num_obs))\n",
    "    h_pos_conditional_prob = np.zeros((num_samples, num_hidden_state))\n",
    "    for i in range(num_samples):\n",
    "        #print(\"x_i_conditional_prob: i=\", i)\n",
    "        sample_obs_vec = known_X[i]\n",
    "        forward_vec = forward_compute(trans_mat, obs_mat, init_dist, known_X[i, :pos[i]])\n",
    "        backward_vec = backward_compute(trans_mat, obs_mat, known_X[i, pos[i] + 1:])\n",
    "        #print(\"forward_vec: \", forward_vec)\n",
    "        #print(\"backward_vec: \", backward_vec)\n",
    "        h_prob_tmp = forward_vec * backward_vec\n",
    "        tmp = h_prob_tmp.sum()\n",
    "        h_prob_tmp /= tmp\n",
    "        h_pos_conditional_prob[i] = h_prob_tmp\n",
    "        x_pos_conditional_prob[i] = h_prob_tmp @ obs_mat\n",
    "    return h_pos_conditional_prob, x_pos_conditional_prob"
   ]
  },
  {
   "cell_type": "code",
   "execution_count": 15,
   "metadata": {},
   "outputs": [
    {
     "name": "stdout",
     "output_type": "stream",
     "text": [
      "[15760, 4543, 4542]\n",
      "[0.63433286 0.18285369 0.18281344]\n"
     ]
    }
   ],
   "source": [
    "test_states, test_obs = generate_HMM_sequences(trans_mat, obs_mat, stat_dist, length, 100000)\n",
    "lst = [0, 0, 0]\n",
    "for i in range(test_states.shape[0]):\n",
    "    if (test_states[i, 0] == 0.0) and (test_states[i, 1] == 2.0):\n",
    "        lst[int(test_states[i, 2])] += 1\n",
    "print(lst)\n",
    "lst = np.array(lst).astype('float64')\n",
    "lst /= lst.sum()\n",
    "print(lst)"
   ]
  },
  {
   "cell_type": "code",
   "execution_count": 17,
   "metadata": {},
   "outputs": [
    {
     "data": {
      "text/plain": [
       "(array([[0., 0., 2.]]), array([[1., 2., 3.]]))"
      ]
     },
     "execution_count": 17,
     "metadata": {},
     "output_type": "execute_result"
    }
   ],
   "source": [
    "states, obs = generate_HMM_sequences(trans_mat, obs_mat, stat_dist, length, num_samples)\n",
    "states, obs"
   ]
  },
  {
   "cell_type": "code",
   "execution_count": 18,
   "metadata": {},
   "outputs": [
    {
     "name": "stdout",
     "output_type": "stream",
     "text": [
      "transition matrix\n",
      "[[0.01554627 0.14416745 0.84028628]\n",
      " [0.13160845 0.43043007 0.43796147]\n",
      " [0.3378113  0.01195339 0.65023531]]\n",
      "observation matrix\n",
      "[[5.10336443e-05 4.22640901e-06 2.08226911e-14 1.80774938e-01\n",
      "  8.19169802e-01]\n",
      " [8.86951621e-01 1.03226795e-01 2.03990342e-03 1.96728311e-03\n",
      "  5.81439722e-03]\n",
      " [3.78728552e-01 1.24232902e-01 1.81257702e-03 4.50485680e-01\n",
      "  4.47402888e-02]]\n",
      "stationary distribution\n",
      "[0.24363546 0.07594781 0.68041673]\n",
      "states and observations, first half of each row is states\n",
      "[[2. 2. 2. 0. 0. 0.]]\n",
      "positions:  [2]\n",
      "Pr[H_i|x_-i], j-th row is for j-th sample and i=positions[j]:\n",
      "[[0.28089022 0.12744663 0.59166315]]\n",
      "Pr[X_i|x_-i], j-th row is for j-th sample and i=positions[j]:\n",
      "[[0.33713306 0.08666112 0.00133241 0.31756441 0.25730899]]\n"
     ]
    }
   ],
   "source": [
    "trans_mat, obs_mat, stat_dist = generate_HMM_params(num_hidden_state, num_obs) # generate parameters for HMM\n",
    "\n",
    "#obs_mat = np.zeros((num_hidden_state, num_obs))\n",
    "#obs_mat[:, :num_hidden_state] = np.identity(num_hidden_state)\n",
    "\n",
    "states, obs = generate_HMM_sequences(trans_mat, obs_mat, stat_dist, length, num_samples) # generate sample sequences\n",
    "\n",
    "pos = np.random.randint(length, size = num_samples)\n",
    "#pos_one_hot = np.zeros((num_samples, length))\n",
    "#tmp = np.arange(num_samples)\n",
    "#pos_one_hot[tmp, pos] = 1\n",
    "#print(pos_one_hot)\n",
    "print(\"transition matrix\")\n",
    "print(trans_mat)\n",
    "print(\"observation matrix\")\n",
    "print(obs_mat)\n",
    "print(\"stationary distribution\")\n",
    "print(stat_dist)\n",
    "print(\"states and observations, first half of each row is states\")\n",
    "print(np.concatenate((states, obs), axis = 1))\n",
    "print(\"positions: \", pos)\n",
    "h, x = x_i_conditional_prob(trans_mat, obs_mat, stat_dist, obs, pos)\n",
    "print(\"Pr[H_i|x_-i], j-th row is for j-th sample and i=positions[j]:\")\n",
    "print(h)\n",
    "print(\"Pr[X_i|x_-i], j-th row is for j-th sample and i=positions[j]:\")\n",
    "print(x)"
   ]
  },
  {
   "cell_type": "code",
   "execution_count": 20,
   "metadata": {},
   "outputs": [
    {
     "name": "stdout",
     "output_type": "stream",
     "text": [
      "[28774, 12854, 61110, 0, 0]\n",
      "[0.28007164 0.12511437 0.59481399 0.         0.        ]\n"
     ]
    }
   ],
   "source": [
    "#x_i_conditional_prob(trans_mat, obs_mat, stat_dist, obs, np.array([1]))\n",
    "test_states, test_obs = generate_HMM_sequences(trans_mat, obs_mat, stat_dist, length, 1000000)\n",
    "lst = [0, 0, 0, 0, 0]\n",
    "for i in range(test_states.shape[0]):\n",
    "    if (test_obs[i, 0] == 0.0) and (test_obs[i, 1] == 0.0):\n",
    "        lst[int(test_states[i, 2])] += 1\n",
    "print(lst)\n",
    "lst = np.array(lst).astype('float64')\n",
    "lst /= lst.sum()\n",
    "print(lst)"
   ]
  },
  {
   "cell_type": "code",
   "execution_count": 10,
   "metadata": {},
   "outputs": [
    {
     "data": {
      "text/plain": [
       "(array([[0.26064652, 0.33029826, 0.11729067, 0.04206999, 0.24969456]]),\n",
       " array([[0.26064652, 0.33029826, 0.11729067, 0.04206999, 0.24969456]]))"
      ]
     },
     "execution_count": 10,
     "metadata": {},
     "output_type": "execute_result"
    }
   ],
   "source": [
    "h @ obs_mat, x"
   ]
  },
  {
   "cell_type": "code",
   "execution_count": 21,
   "metadata": {},
   "outputs": [],
   "source": [
    "from torch.utils import data"
   ]
  },
  {
   "cell_type": "code",
   "execution_count": 22,
   "metadata": {},
   "outputs": [],
   "source": [
    "#parameter setting\n",
    "num_hidden_state = 3\n",
    "num_obs = 5\n",
    "length = 10\n",
    "num_samples = 1000"
   ]
  },
  {
   "cell_type": "code",
   "execution_count": 23,
   "metadata": {},
   "outputs": [
    {
     "name": "stdout",
     "output_type": "stream",
     "text": [
      "transition matrix\n",
      "[[0.42265632 0.22411211 0.35323157]\n",
      " [0.46122757 0.40080087 0.13797155]\n",
      " [0.04676753 0.5609235  0.39230897]]\n",
      "observation matrix\n",
      "[[2.92681512e-01 1.50206764e-04 6.16017949e-01 1.42344315e-03\n",
      "  8.97268893e-02]\n",
      " [1.46534926e-02 2.00898243e-04 1.85346850e-01 7.24383169e-05\n",
      "  7.99726321e-01]\n",
      " [2.77131417e-06 1.92761368e-01 1.11532894e-05 3.91880687e-01\n",
      "  4.15344020e-01]]\n",
      "stationary distribution\n",
      "[0.33200907 0.38711344 0.28087749]\n",
      "states and observations, first half of each row is states\n",
      "[[0. 2. 1. ... 0. 0. 3.]\n",
      " [2. 1. 2. ... 4. 4. 4.]\n",
      " [1. 0. 0. ... 3. 4. 4.]\n",
      " ...\n",
      " [0. 2. 1. ... 4. 2. 2.]\n",
      " [0. 2. 1. ... 2. 2. 2.]\n",
      " [2. 1. 0. ... 1. 1. 4.]]\n",
      "positions:  [2 0 9 2 9 2 3 6 5 1 5 2 4 7 7 6 8 6 3 0 5 6 7 2 5 1 8 5 2 6 4 5 3 5 7 3 9\n",
      " 1 3 9 1 0 2 2 6 9 4 3 9 1 5 8 8 1 8 1 4 3 6 8 3 0 4 6 7 2 9 9 6 4 1 7 7 9\n",
      " 7 8 2 6 3 5 9 8 1 5 3 1 5 2 9 7 8 6 8 1 6 6 3 0 2 8 0 2 2 9 1 3 5 1 0 6 9\n",
      " 6 3 1 3 7 4 5 2 2 9 5 9 2 8 9 8 5 1 6 4 0 3 4 0 0 7 8 5 3 0 8 8 8 9 1 5 2\n",
      " 9 3 7 9 2 5 4 1 6 5 3 1 1 8 3 6 8 8 8 0 7 4 0 1 6 2 6 5 4 9 2 5 2 1 9 1 0\n",
      " 1 3 5 4 8 4 6 7 9 4 9 2 0 8 2 0 6 5 2 2 8 5 5 0 4 3 1 1 0 4 0 4 3 4 3 2 1\n",
      " 3 8 9 5 5 2 9 0 8 4 0 4 4 4 7 7 4 5 7 3 1 9 8 1 2 1 7 6 2 8 3 6 6 8 5 4 5\n",
      " 0 7 4 2 3 0 6 2 0 9 3 6 3 2 1 8 4 3 8 5 0 8 2 5 3 6 2 4 0 8 9 1 3 7 5 9 3\n",
      " 2 6 1 7 1 8 8 0 9 0 8 9 4 6 0 8 0 7 2 5 3 1 7 6 9 2 1 4 5 2 2 8 5 3 6 8 3\n",
      " 3 5 2 8 2 6 5 5 3 3 0 5 7 4 1 1 4 5 4 3 5 7 8 8 6 9 4 6 6 7 4 9 5 8 9 6 5\n",
      " 7 6 7 2 7 1 1 6 1 3 9 2 2 7 8 7 9 7 2 2 5 5 8 9 1 2 7 9 3 9 8 5 9 6 4 9 9\n",
      " 3 5 6 5 4 2 2 2 0 1 1 1 7 5 9 2 3 0 4 9 5 2 4 8 9 8 0 0 6 1 0 5 8 1 5 9 6\n",
      " 8 3 7 3 5 1 3 3 3 8 9 8 2 1 3 2 6 5 0 9 0 9 0 7 9 9 4 8 2 2 4 2 2 0 1 1 6\n",
      " 2 9 8 0 5 3 3 3 4 8 5 1 1 8 3 5 7 3 4 2 6 8 9 2 0 0 2 0 9 9 8 4 2 0 3 2 8\n",
      " 2 6 7 6 1 7 8 5 0 1 0 7 7 6 6 7 0 9 8 2 9 6 7 7 5 6 1 2 6 4 4 5 8 0 7 4 0\n",
      " 6 5 5 8 5 2 4 8 4 9 3 4 2 6 5 2 8 6 1 2 8 5 6 8 5 7 0 6 9 9 5 0 0 1 2 2 2\n",
      " 3 3 8 2 3 8 6 6 1 5 4 6 0 0 8 3 3 3 4 0 0 0 0 0 5 2 5 0 5 1 6 6 6 7 0 2 7\n",
      " 8 8 2 8 3 5 0 0 2 0 5 3 4 0 0 4 0 8 4 0 0 0 4 4 8 6 7 1 0 2 8 4 4 6 7 2 0\n",
      " 1 3 7 8 9 4 2 4 9 5 1 3 3 2 9 2 9 4 6 4 5 7 6 7 3 9 9 6 8 3 9 2 3 0 1 8 6\n",
      " 9 6 6 0 8 8 4 6 5 6 7 4 4 8 8 5 8 4 9 8 6 3 6 8 5 2 3 6 9 6 1 4 9 2 7 8 5\n",
      " 4 8 7 3 5 0 4 6 3 6 2 9 4 0 4 3 9 3 1 4 9 1 4 9 8 1 6 9 3 5 6 4 2 6 4 3 6\n",
      " 7 8 5 5 2 6 9 3 5 9 0 0 3 3 0 7 5 2 6 3 5 5 5 7 6 4 5 6 4 7 3 6 2 0 5 7 7\n",
      " 9 4 6 7 7 4 2 7 4 7 1 9 4 6 5 1 1 1 0 3 0 8 2 3 8 7 0 8 6 3 5 7 5 1 5 9 6\n",
      " 3 4 3 3 2 8 3 0 8 7 7 7 5 4 3 1 7 7 3 6 4 2 0 9 2 2 1 7 8 1 6 2 8 2 2 7 0\n",
      " 2 9 0 5 8 5 4 0 9 1 1 8 7 8 7 8 7 6 8 6 6 9 4 6 1 7 3 3 4 2 3 3 6 1 2 4 7\n",
      " 3 2 4 1 6 5 5 6 2 1 9 1 6 7 7 7 2 0 0 6 7 8 3 6 8 6 4 1 3 7 5 8 7 0 3 4 4\n",
      " 9 8 1 0 6 0 3 1 0 8 5 8 9 0 4 0 7 6 1 5 8 7 7 7 3 0 8 2 4 2 5 5 2 9 7 7 0\n",
      " 0]\n",
      "Pr[H_i|x_-i], j-th row is for j-th sample and i=positions[j]:\n",
      "[[0.3369734  0.54410674 0.11891986]\n",
      " [0.35988624 0.50046146 0.13965229]\n",
      " [0.35111199 0.44198166 0.20690635]\n",
      " ...\n",
      " [0.38822297 0.51122894 0.10054809]\n",
      " [0.28409307 0.33407683 0.38183009]\n",
      " [0.28538292 0.33698888 0.3776282 ]]\n",
      "Pr[X_i|x_-i], j-th row is for j-th sample and i=positions[j]:\n",
      "[[0.10659928 0.02308308 0.30843146 0.04712147 0.51476471]\n",
      " [0.11266594 0.02707417 0.3144569  0.05527557 0.49052742]\n",
      " [0.10924114 0.04002508 0.2982135  0.08161441 0.47090587]\n",
      " ...\n",
      " [0.12111725 0.01954281 0.33390811 0.0399925  0.48543933]\n",
      " [0.08804524 0.07371188 0.23693078 0.15006043 0.45125167]\n",
      " [0.08846542 0.0729027  0.23826504 0.14841584 0.45195101]]\n"
     ]
    }
   ],
   "source": [
    "trans_mat, obs_mat, stat_dist = generate_HMM_params(num_hidden_state, num_obs) # generate parameters for HMM\n",
    "\n",
    "states, obs = generate_HMM_sequences(trans_mat, obs_mat, stat_dist, length, num_samples) # generate sample sequences\n",
    "\n",
    "pos = np.random.randint(length, size = num_samples)\n",
    "\n",
    "print(\"transition matrix\")\n",
    "print(trans_mat)\n",
    "print(\"observation matrix\")\n",
    "print(obs_mat)\n",
    "print(\"stationary distribution\")\n",
    "print(stat_dist)\n",
    "print(\"states and observations, first half of each row is states\")\n",
    "print(np.concatenate((states, obs), axis = 1))\n",
    "print(\"positions: \", pos)\n",
    "h, x = x_i_conditional_prob(trans_mat, obs_mat, stat_dist, obs, pos)\n",
    "print(\"Pr[H_i|x_-i], j-th row is for j-th sample and i=positions[j]:\")\n",
    "print(h)\n",
    "print(\"Pr[X_i|x_-i], j-th row is for j-th sample and i=positions[j]:\")\n",
    "print(x)"
   ]
  },
  {
   "cell_type": "code",
   "execution_count": 26,
   "metadata": {},
   "outputs": [],
   "source": [
    "features, labels = x, h"
   ]
  },
  {
   "cell_type": "code",
   "execution_count": 169,
   "metadata": {},
   "outputs": [],
   "source": [
    "# Model parameters.\n",
    "lr = 3\n",
    "epochs = 1000\n",
    "batch_size = 100"
   ]
  },
  {
   "cell_type": "code",
   "execution_count": 170,
   "metadata": {},
   "outputs": [],
   "source": [
    "dataset = data.TensorDataset(torch.FloatTensor(x), torch.FloatTensor(h))\n",
    "train_dl = torch.utils.data.DataLoader(dataset, batch_size=batch_size, shuffle=False)"
   ]
  },
  {
   "cell_type": "code",
   "execution_count": 171,
   "metadata": {},
   "outputs": [],
   "source": [
    "from torch import nn"
   ]
  },
  {
   "cell_type": "code",
   "execution_count": 172,
   "metadata": {},
   "outputs": [],
   "source": [
    "net = nn.Sequential(nn.Linear(num_obs, num_hidden_state, bias=False))"
   ]
  },
  {
   "cell_type": "code",
   "execution_count": 173,
   "metadata": {},
   "outputs": [],
   "source": [
    "loss = nn.MSELoss()"
   ]
  },
  {
   "cell_type": "code",
   "execution_count": 174,
   "metadata": {},
   "outputs": [],
   "source": [
    "trainer = torch.optim.SGD(net.parameters(), lr=lr)"
   ]
  },
  {
   "cell_type": "code",
   "execution_count": 176,
   "metadata": {},
   "outputs": [
    {
     "name": "stdout",
     "output_type": "stream",
     "text": [
      "epoch:  0\n",
      "loss:  tensor(0.1683, grad_fn=<AddBackward0>)\n",
      "epoch:  100\n",
      "loss:  tensor(3.5754e-09, grad_fn=<AddBackward0>)\n",
      "epoch:  200\n",
      "loss:  tensor(7.0949e-13, grad_fn=<AddBackward0>)\n",
      "epoch:  300\n",
      "loss:  tensor(6.4643e-13, grad_fn=<AddBackward0>)\n",
      "epoch:  400\n",
      "loss:  tensor(6.0223e-13, grad_fn=<AddBackward0>)\n",
      "epoch:  500\n",
      "loss:  tensor(5.6167e-13, grad_fn=<AddBackward0>)\n",
      "epoch:  600\n",
      "loss:  tensor(5.2111e-13, grad_fn=<AddBackward0>)\n",
      "epoch:  700\n",
      "loss:  tensor(4.8881e-13, grad_fn=<AddBackward0>)\n",
      "epoch:  800\n",
      "loss:  tensor(4.5680e-13, grad_fn=<AddBackward0>)\n",
      "epoch:  900\n",
      "loss:  tensor(4.2430e-13, grad_fn=<AddBackward0>)\n"
     ]
    }
   ],
   "source": [
    "for i in range(epochs):\n",
    "    total_loss = 0\n",
    "    for X, y in train_dl:\n",
    "        l = loss(net(X) ,y)\n",
    "        total_loss += l\n",
    "        trainer.zero_grad()\n",
    "        l.backward()\n",
    "        trainer.step()\n",
    "    if (i % 100 == 0):\n",
    "        print(\"epoch: \", i)\n",
    "        print(\"loss: \", total_loss)"
   ]
  },
  {
   "cell_type": "code",
   "execution_count": 177,
   "metadata": {},
   "outputs": [
    {
     "data": {
      "text/plain": [
       "tensor([[ 0.6292, -0.2160,  1.3714,  0.4553, -0.3293],\n",
       "        [-0.3151, -0.3703, -0.0316, -1.1572,  1.2637],\n",
       "        [-0.1060,  0.9090,  0.0466,  2.1145, -0.0093]])"
      ]
     },
     "execution_count": 177,
     "metadata": {},
     "output_type": "execute_result"
    }
   ],
   "source": [
    "net[0].weight.data"
   ]
  },
  {
   "cell_type": "code",
   "execution_count": 178,
   "metadata": {},
   "outputs": [
    {
     "data": {
      "text/plain": [
       "array([[ 0.70946001, -0.25856422,  0.16254959],\n",
       "       [ 0.13386227, -0.53187938,  1.00319817],\n",
       "       [ 1.33246609, -0.05937896, -0.08454823],\n",
       "       [ 0.27525784, -1.08351973,  2.04118875],\n",
       "       [-0.32187423,  1.26915907,  0.01617982]])"
      ]
     },
     "execution_count": 178,
     "metadata": {},
     "output_type": "execute_result"
    }
   ],
   "source": [
    "np.linalg.pinv(obs_mat)"
   ]
  },
  {
   "cell_type": "code",
   "execution_count": 181,
   "metadata": {},
   "outputs": [
    {
     "name": "stdout",
     "output_type": "stream",
     "text": [
      "tensor([[0.1066, 0.0231, 0.3084, 0.0471, 0.5148],\n",
      "        [0.1127, 0.0271, 0.3145, 0.0553, 0.4905],\n",
      "        [0.1092, 0.0400, 0.2982, 0.0816, 0.4709],\n",
      "        [0.0881, 0.0642, 0.2451, 0.1308, 0.4717],\n",
      "        [0.1092, 0.0400, 0.2982, 0.0816, 0.4709],\n",
      "        [0.1692, 0.0145, 0.4127, 0.0300, 0.3736],\n",
      "        [0.1404, 0.0817, 0.3112, 0.1665, 0.3002],\n",
      "        [0.1062, 0.0871, 0.2537, 0.1774, 0.3757],\n",
      "        [0.1485, 0.0562, 0.3453, 0.1147, 0.3353]])\n",
      "tensor([[0.3370, 0.5441, 0.1189],\n",
      "        [0.3599, 0.5005, 0.1397],\n",
      "        [0.3511, 0.4420, 0.2069],\n",
      "        [0.2819, 0.3855, 0.3327],\n",
      "        [0.3511, 0.4420, 0.2069],\n",
      "        [0.5599, 0.3657, 0.0744],\n",
      "        [0.4744, 0.1024, 0.4232],\n",
      "        [0.3529, 0.1957, 0.4513],\n",
      "        [0.4966, 0.2125, 0.2909]])\n",
      "tensor([[ 1.1921e-07, -2.3842e-07,  2.7567e-07],\n",
      "        [ 8.9407e-08, -2.3842e-07,  2.0862e-07],\n",
      "        [ 5.9605e-08, -1.1921e-07,  1.0431e-07],\n",
      "        [ 0.0000e+00,  5.9605e-08, -5.9605e-08],\n",
      "        [ 0.0000e+00, -1.1921e-07,  8.9407e-08],\n",
      "        [-5.9605e-08, -8.9407e-08,  1.9372e-07],\n",
      "        [-2.6822e-07,  4.0978e-07, -3.5763e-07],\n",
      "        [-1.4901e-07,  3.1292e-07, -3.2783e-07],\n",
      "        [-1.4901e-07,  2.2352e-07, -1.4901e-07]])\n",
      "tensor([[0.3370, 0.5441, 0.1189],\n",
      "        [0.3599, 0.5005, 0.1397],\n",
      "        [0.3511, 0.4420, 0.2069],\n",
      "        [0.2819, 0.3855, 0.3327],\n",
      "        [0.3511, 0.4420, 0.2069],\n",
      "        [0.5599, 0.3657, 0.0744],\n",
      "        [0.4744, 0.1024, 0.4232],\n",
      "        [0.3529, 0.1957, 0.4513],\n",
      "        [0.4966, 0.2125, 0.2909]], dtype=torch.float64)\n",
      "tensor([[-0.0803, -0.0565, -0.2686],\n",
      "        [-0.3498,  0.1616, -0.0942],\n",
      "        [ 0.0389,  0.0278,  0.1312],\n",
      "        [ 0.1800, -0.0737,  0.0733],\n",
      "        [-0.0075, -0.0054, -0.0255]], dtype=torch.float64)\n"
     ]
    }
   ],
   "source": [
    "for X, y in train_dl:\n",
    "    print(X[:9])\n",
    "    print(y[:9])\n",
    "    print((X @ net[0].weight.data.T - y)[:9])\n",
    "    print((X.double() @ torch.from_numpy(np.linalg.pinv(obs_mat)))[:9])\n",
    "    print(net[0].weight.data.T.double() - torch.from_numpy(np.linalg.pinv(obs_mat)))\n",
    "    break"
   ]
  },
  {
   "cell_type": "code",
   "execution_count": 109,
   "metadata": {},
   "outputs": [
    {
     "data": {
      "text/plain": [
       "(array([[0.10659928, 0.02308308, 0.30843146, 0.04712147, 0.51476471],\n",
       "        [0.11266594, 0.02707417, 0.3144569 , 0.05527557, 0.49052742],\n",
       "        [0.10924114, 0.04002508, 0.2982135 , 0.08161441, 0.47090587],\n",
       "        ...,\n",
       "        [0.12111725, 0.01954281, 0.33390811, 0.0399925 , 0.48543933],\n",
       "        [0.08804524, 0.07371188, 0.23693078, 0.15006043, 0.45125167],\n",
       "        [0.08846542, 0.0729027 , 0.23826504, 0.14841584, 0.45195101]]),\n",
       " array([[0.3369734 , 0.54410674, 0.11891986],\n",
       "        [0.35988624, 0.50046146, 0.13965229],\n",
       "        [0.35111199, 0.44198166, 0.20690635],\n",
       "        ...,\n",
       "        [0.38822297, 0.51122894, 0.10054809],\n",
       "        [0.28409307, 0.33407683, 0.38183009],\n",
       "        [0.28538292, 0.33698888, 0.3776282 ]]))"
      ]
     },
     "execution_count": 109,
     "metadata": {},
     "output_type": "execute_result"
    }
   ],
   "source": [
    "x, h"
   ]
  },
  {
   "cell_type": "code",
   "execution_count": 116,
   "metadata": {},
   "outputs": [
    {
     "data": {
      "text/plain": [
       "array([[ 0.70946001, -0.25856422,  0.16254959],\n",
       "       [ 0.13386227, -0.53187938,  1.00319817],\n",
       "       [ 1.33246609, -0.05937896, -0.08454823],\n",
       "       [ 0.27525784, -1.08351973,  2.04118875],\n",
       "       [-0.32187423,  1.26915907,  0.01617982]])"
      ]
     },
     "execution_count": 116,
     "metadata": {},
     "output_type": "execute_result"
    }
   ],
   "source": [
    "np.linalg.pinv(obs_mat)"
   ]
  },
  {
   "cell_type": "code",
   "execution_count": 182,
   "metadata": {},
   "outputs": [
    {
     "name": "stdout",
     "output_type": "stream",
     "text": [
      "transition matrix\n",
      "[[0.42265632 0.22411211 0.35323157]\n",
      " [0.46122757 0.40080087 0.13797155]\n",
      " [0.04676753 0.5609235  0.39230897]]\n",
      "observation matrix\n",
      "[[2.92681512e-01 1.50206764e-04 6.16017949e-01 1.42344315e-03\n",
      "  8.97268893e-02]\n",
      " [1.46534926e-02 2.00898243e-04 1.85346850e-01 7.24383169e-05\n",
      "  7.99726321e-01]\n",
      " [2.77131417e-06 1.92761368e-01 1.11532894e-05 3.91880687e-01\n",
      "  4.15344020e-01]]\n",
      "stationary distribution\n",
      "[0.33200907 0.38711344 0.28087749]\n",
      "states and observations, first half of each row is states\n",
      "[[0. 0. 0. ... 4. 4. 4.]\n",
      " [2. 2. 2. ... 4. 3. 4.]\n",
      " [2. 1. 1. ... 4. 1. 4.]\n",
      " ...\n",
      " [0. 0. 1. ... 2. 4. 4.]\n",
      " [1. 1. 2. ... 4. 4. 4.]\n",
      " [2. 1. 0. ... 4. 4. 4.]]\n",
      "positions:  [9 7 6 7 1 1 5 5 4 3 4 0 8 0 0 7 1 3 3 1 7 8 3 7 1 0 9 8 0 6 2 0 0 9 4 4 8\n",
      " 0 8 1 9 4 3 3 3 4 9 2 6 4 1 7 0 0 6 8 5 4 5 1 5 9 1 7 7 7 9 7 4 8 9 8 2 3\n",
      " 6 6 7 8 3 6 6 3 2 7 0 9 8 6 8 4 6 1 7 4 2 8 9 1 9 8 8 1 6 5 6 1 3 6 6 7 9\n",
      " 3 5 0 6 4 6 3 0 6 3 8 9 0 0 4 6 7 8 9 5 4 6 3 2 8 6 0 9 2 4 0 1 5 3 8 6 2\n",
      " 6 6 3 4 9 7 7 5 1 4 4 0 2 3 1 4 4 6 0 8 7 7 8 9 6 8 6 4 7 7 3 9 9 5 6 8 5\n",
      " 0 0 7 4 3 8 8 1 7 4 3 5 4 8 4 8 9 4 8 5 5 2 3 9 8 1 0 0 5 8 0 0 1 1 3 2 6\n",
      " 4 3 0 8 2 1 7 0 9 4 3 2 2 3 6 5 1 1 5 1 0 0 9 4 1 2 0 4 6 1 0 5 0 6 5 5 2\n",
      " 9 7 9 3 7 7 6 1 4 7 7 7 8 9 1 5 8 9 4 0 8 5 1 4 7 0 0 1 3 4 7 9 8 8 6 2 7\n",
      " 7 1 5 1 9 7 8 6 6 4 8 0 3 9 0 1 2 8 7 0 3 8 6 6 2 7 3 9 3 8 0 6 2 8 6 8 6\n",
      " 1 3 4 7 0 7 2 3 1 1 1 1 0 7 2 7 4 3 6 8 8 1 6 4 6 0 8 0 6 1 8 4 6 4 4 3 5\n",
      " 0 0 9 5 3 0 2 2 9 3 2 4 5 4 3 2 5 8 1 4 5 9 8 3 1 7 7 1 9 7 8 0 8 6 5 1 0\n",
      " 5 0 1 3 3 3 9 5 6 6 3 7 5 0 2 7 4 7 2 0 8 7 6 4 7 4 9 3 5 0 7 9 0 5 9 1 3\n",
      " 3 8 2 8 7 8 2 0 0 8 0 8 6 1 9 1 7 0 0 9 3 7 6 2 9 5 5 5 5 1 4 1 8 1 8 6 3\n",
      " 8 7 7 0 7 4 5 8 9 2 6 4 6 0 5 7 0 5 8 3 6 6 8 1 4 1 8 0 4 7 1 8 1 4 4 7 9\n",
      " 5 5 1 2 3 8 5 6 2 9 7 0 4 6 0 9 6 0 0 6 7 8 7 6 0 7 9 2 2 4 5 9 1 4 3 6 1\n",
      " 1 1 5 4 2 4 9 7 2 7 9 7 9 5 3 2 8 8 3 5 8 2 3 9 5 0 9 1 4 3 4 3 9 9 2 2 4\n",
      " 3 5 1 6 4 6 8 5 1 6 5 5 1 5 7 7 7 7 7 2 9 8 4 9 8 2 9 5 8 0 7 0 5 3 4 2 5\n",
      " 7 4 4 9 2 0 3 9 4 4 3 8 0 0 1 4 9 9 8 7 4 0 6 2 3 2 8 1 6 9 5 2 6 6 7 9 7\n",
      " 1 6 6 9 1 9 3 7 6 5 7 9 8 8 1 6 2 8 8 8 6 2 7 7 1 5 4 6 7 5 1 9 6 2 3 4 5\n",
      " 5 6 8 0 5 3 3 4 2 3 5 3 9 5 3 0 5 3 3 7 9 9 7 4 1 6 0 4 7 6 8 5 5 7 8 0 0\n",
      " 3 2 3 3 2 6 5 2 0 6 3 4 6 4 7 7 2 9 1 1 4 3 3 9 9 2 2 5 1 8 5 5 9 1 8 4 9\n",
      " 6 9 7 6 6 1 1 5 7 0 8 2 7 0 1 9 3 7 7 5 8 4 2 1 9 2 3 9 4 8 5 6 0 4 9 8 3\n",
      " 9 4 8 7 0 1 7 9 2 1 9 5 2 0 7 8 3 8 4 4 7 7 4 9 1 1 5 2 8 6 1 9 9 6 3 8 7\n",
      " 2 4 8 3 0 1 5 3 6 2 7 8 2 1 5 6 7 9 7 7 4 8 4 6 9 3 0 7 7 1 1 4 0 0 0 2 0\n",
      " 9 8 3 1 4 4 9 0 1 3 7 2 8 0 6 6 8 5 7 9 0 5 8 6 0 3 1 9 1 0 6 9 2 1 1 4 7\n",
      " 8 3 9 7 1 5 5 1 6 4 7 5 1 3 3 6 0 5 1 9 2 9 5 1 7 1 0 6 2 7 6 7 4 2 4 7 5\n",
      " 4 1 9 9 5 6 1 7 6 9 7 8 5 6 2 0 0 0 1 3 0 0 8 8 9 9 0 8 1 9 5 1 1 2 6 6 5\n",
      " 5]\n"
     ]
    }
   ],
   "source": [
    "states, obs = generate_HMM_sequences(trans_mat, obs_mat, stat_dist, length, num_samples) # generate sample sequences\n",
    "\n",
    "pos = np.random.randint(length, size = num_samples)\n",
    "\n",
    "print(\"transition matrix\")\n",
    "print(trans_mat)\n",
    "print(\"observation matrix\")\n",
    "print(obs_mat)\n",
    "print(\"stationary distribution\")\n",
    "print(stat_dist)\n",
    "print(\"states and observations, first half of each row is states\")\n",
    "print(np.concatenate((states, obs), axis = 1))\n",
    "print(\"positions: \", pos)\n",
    "h, x = x_i_conditional_prob(trans_mat, obs_mat, stat_dist, obs, pos)"
   ]
  },
  {
   "cell_type": "code",
   "execution_count": 186,
   "metadata": {},
   "outputs": [
    {
     "data": {
      "text/plain": [
       "tensor([[ 5.2449e-09, -8.7515e-08,  9.4320e-08],\n",
       "        [-2.3336e-07,  4.2445e-07, -3.8074e-07],\n",
       "        [-1.5459e-07,  2.8853e-07, -2.7494e-07],\n",
       "        ...,\n",
       "        [-7.1988e-08,  8.2092e-09,  4.8466e-08],\n",
       "        [-2.2446e-08,  1.4187e-08, -2.6014e-08],\n",
       "        [-1.3576e-07,  2.3927e-07, -2.2379e-07]], dtype=torch.float64)"
      ]
     },
     "execution_count": 186,
     "metadata": {},
     "output_type": "execute_result"
    }
   ],
   "source": [
    "torch.from_numpy(x) @ net[0].weight.data.T.double() - torch.from_numpy(h)"
   ]
  },
  {
   "cell_type": "code",
   "execution_count": null,
   "metadata": {},
   "outputs": [],
   "source": []
  }
 ],
 "metadata": {
  "kernelspec": {
   "display_name": "Python 3",
   "language": "python",
   "name": "python3"
  },
  "language_info": {
   "codemirror_mode": {
    "name": "ipython",
    "version": 3
   },
   "file_extension": ".py",
   "mimetype": "text/x-python",
   "name": "python",
   "nbconvert_exporter": "python",
   "pygments_lexer": "ipython3",
   "version": "3.7.2"
  }
 },
 "nbformat": 4,
 "nbformat_minor": 4
}
