{
 "cells": [
  {
   "cell_type": "code",
   "execution_count": 1,
   "metadata": {},
   "outputs": [],
   "source": [
    "import numpy as np\n",
    "import torch"
   ]
  },
  {
   "cell_type": "code",
   "execution_count": 2,
   "metadata": {},
   "outputs": [],
   "source": [
    "#define some useful functions\n",
    "def generate_HMM_params(num_hidden_state, num_obs):\n",
    "    # random generate the transition matrix and observation matrix, and compute the stationary distribution\n",
    "    \n",
    "    alpha_state = np.ones(num_hidden_state)\n",
    "    alpha_obs = np.ones(num_obs) / num_obs\n",
    "    trans_mat = np.random.dirichlet(alpha_state, num_hidden_state)\n",
    "    obs_mat = np.random.dirichlet(alpha_obs, num_hidden_state)\n",
    "    tmp = np.ones((num_hidden_state + 1, num_hidden_state))\n",
    "    tmp[:-1] = np.identity(num_hidden_state) - trans_mat.T\n",
    "    tmp_v = np.zeros(num_hidden_state + 1)\n",
    "    tmp_v[-1] = 1\n",
    "    stat_dist = np.linalg.lstsq(tmp, tmp_v, rcond=None)[0]\n",
    "    return trans_mat, obs_mat, stat_dist"
   ]
  },
  {
   "cell_type": "code",
   "execution_count": 3,
   "metadata": {},
   "outputs": [],
   "source": [
    "def generate_HMM_sequences(trans_mat, obs_mat, init_dist, length, num_samples = 1):\n",
    "    # generate sample sequences from HMM\n",
    "    \n",
    "    states = np.zeros((num_samples, length))\n",
    "    obs = np.zeros((num_samples, length))\n",
    "    tmp_state = np.argmax(np.random.multinomial(1, init_dist, num_samples), axis = 1)\n",
    "    #print(tmp_state)\n",
    "    for i in range(length):\n",
    "        #print(\"i: \", i)\n",
    "        states[:, i] = tmp_state\n",
    "        for j in range(num_samples):\n",
    "            obs[j, i] = np.random.multinomial(1, obs_mat[tmp_state[j]]).argmax()\n",
    "            tmp_state[j] = np.random.multinomial(1, trans_mat[tmp_state[j]]).argmax()\n",
    "        #print(\"obs[:, i]: \", obs[:, i])\n",
    "    return states, obs"
   ]
  },
  {
   "cell_type": "code",
   "execution_count": 4,
   "metadata": {},
   "outputs": [],
   "source": [
    "def forward_compute(trans_mat, obs_mat, init_dist, obs_to_pos):\n",
    "    # compute \\sum_{h_1,...,h_{pos-1}} P(h_1,...,h_{pos},x_1,...,x_{pos-1})\n",
    "    pos = obs_to_pos.shape[0] + 1\n",
    "    num_hidden_state = trans_mat.shape[0]\n",
    "    num_obs = obs_mat.shape[1]\n",
    "    forward = np.zeros((pos, num_hidden_state))\n",
    "    forward[0] = init_dist\n",
    "    for i in range(1, pos):\n",
    "        for j in range(num_hidden_state):\n",
    "            for k in range(num_hidden_state):\n",
    "                #print(i, j, k)\n",
    "                #print(forward[i - 1, k], trans_mat[k, j], obs_mat[k, int(obs_to_pos[i - 1])])\n",
    "                forward[i, j] += forward[i - 1, k] * trans_mat[k, j] * obs_mat[k, int(obs_to_pos[i - 1])]\n",
    "    #print(\"forward: \", forward)\n",
    "    return forward[pos - 1]"
   ]
  },
  {
   "cell_type": "code",
   "execution_count": 5,
   "metadata": {},
   "outputs": [],
   "source": [
    "def backward_compute(trans_mat, obs_mat, obs_from_pos):\n",
    "    num_hidden_state = trans_mat.shape[0]\n",
    "    num_obs = obs_mat.shape[1]\n",
    "    back_length = obs_from_pos.shape[0]\n",
    "    if (back_length == 0):\n",
    "        return np.ones(num_hidden_state)\n",
    "    backward = np.zeros((back_length, num_hidden_state))\n",
    "    for j in range(num_hidden_state):\n",
    "         for k in range(num_hidden_state):\n",
    "            backward[0, j] += trans_mat[j, k] * obs_mat[k, int(obs_from_pos[-1])]\n",
    "    for i in range(1, back_length):\n",
    "        for j in range(num_hidden_state):\n",
    "            for k in range(num_hidden_state):\n",
    "                backward[i, j] += trans_mat[j, k] * obs_mat[k, int(obs_from_pos[-(i + 1)])] * backward[i - 1, k]\n",
    "    #print(\"backward: \", backward)\n",
    "    return backward[-1]"
   ]
  },
  {
   "cell_type": "code",
   "execution_count": 6,
   "metadata": {},
   "outputs": [],
   "source": [
    "def x_i_conditional_prob(trans_mat, obs_mat, init_dist, known_X, pos):\n",
    "    num_hidden_state = trans_mat.shape[0]\n",
    "    num_obs = obs_mat.shape[1]\n",
    "    num_samples = known_X.shape[0]\n",
    "    length = known_X.shape[1]\n",
    "    x_pos_conditional_prob = np.zeros((num_samples, num_obs))\n",
    "    h_pos_conditional_prob = np.zeros((num_samples, num_hidden_state))\n",
    "    h_all_pos_conditional_prob = np.zeros((num_samples, num_hidden_state))\n",
    "    for i in range(num_samples):\n",
    "        #print(\"x_i_conditional_prob: i=\", i)\n",
    "        sample_obs_vec = known_X[i]\n",
    "        forward_vec = forward_compute(trans_mat, obs_mat, init_dist, known_X[i, :pos[i]])\n",
    "        backward_vec = backward_compute(trans_mat, obs_mat, known_X[i, pos[i] + 1:])\n",
    "        #print(\"forward_vec: \", forward_vec)\n",
    "        #print(\"backward_vec: \", backward_vec)\n",
    "        h_prob_tmp = forward_vec * backward_vec\n",
    "        tmp = h_prob_tmp.sum()\n",
    "        h_prob_tmp /= tmp\n",
    "        h_pos_conditional_prob[i] = h_prob_tmp\n",
    "        x_pos_conditional_prob[i] = h_prob_tmp @ obs_mat\n",
    "        h_all_pos_conditional_prob[i] = h_prob_tmp * obs_mat[:, int(known_X[i, pos[i]])] / x_pos_conditional_prob[i, int(known_X[i, pos[i]])]\n",
    "    return h_pos_conditional_prob, x_pos_conditional_prob, h_all_pos_conditional_prob"
   ]
  },
  {
   "cell_type": "code",
   "execution_count": 7,
   "metadata": {},
   "outputs": [],
   "source": [
    "#parameter setting\n",
    "num_hidden_state = 3\n",
    "num_obs = 5\n",
    "length = 10\n",
    "num_samples = 1000"
   ]
  },
  {
   "cell_type": "code",
   "execution_count": 11,
   "metadata": {},
   "outputs": [
    {
     "name": "stdout",
     "output_type": "stream",
     "text": [
      "transition matrix\n",
      "[[0.19038151 0.5603291  0.24928939]\n",
      " [0.59211519 0.37810341 0.0297814 ]\n",
      " [0.52737761 0.34205379 0.1305686 ]]\n",
      "observation matrix\n",
      "[[2.84422161e-01 2.51497236e-01 1.31816210e-02 4.38026768e-01\n",
      "  1.28722143e-02]\n",
      " [1.50940815e-01 6.59969385e-01 1.64551320e-02 2.15946003e-02\n",
      "  1.51040067e-01]\n",
      " [9.01408117e-03 9.45219115e-01 4.57668030e-02 7.87716140e-11\n",
      "  4.61558184e-10]]\n",
      "stationary distribution\n",
      "[0.41619456 0.44908825 0.1347172 ]\n",
      "states and observations, first half of each row is states, only showing first 5: \n",
      "[[1. 1. 0. 0. 0. 2. 0. 1. 0. 1. 0. 1. 0. 3. 3. 1. 1. 0. 3. 1.]\n",
      " [1. 1. 0. 0. 1. 1. 0. 1. 1. 1. 1. 4. 3. 3. 4. 1. 0. 4. 1. 1.]\n",
      " [0. 2. 0. 2. 0. 2. 2. 2. 1. 0. 3. 1. 1. 1. 0. 1. 1. 1. 1. 1.]\n",
      " [0. 2. 2. 0. 1. 0. 2. 1. 2. 0. 1. 1. 1. 3. 1. 0. 1. 1. 1. 2.]\n",
      " [1. 0. 1. 0. 2. 1. 1. 1. 0. 1. 4. 1. 4. 1. 1. 0. 1. 0. 3. 3.]]\n",
      "positions, only showing first 5:  [9 9 9 9 9]\n",
      "Pr[H_i|x_-i], j-th row is for j-th sample and i=positions[j], only showing first 5:\n",
      "[[0.21892801 0.54738046 0.23369153]\n",
      " [0.45485649 0.43452393 0.11061958]\n",
      " [0.47997322 0.41608534 0.10394145]\n",
      " [0.48386551 0.41376682 0.10236767]\n",
      " [0.22070869 0.54657275 0.23271857]]\n",
      "Pr[X_i|x_-i], j-th row is for j-th sample and i=positions[j], only showing first 5:\n",
      "[[0.14699655 0.63720383 0.02258836 0.10771679 0.08549447]\n",
      " [0.1959558  0.50572738 0.0182086  0.20862269 0.07148553]\n",
      " [0.20025622 0.49356296 0.01793063 0.21922631 0.06902388]\n",
      " [0.20099913 0.49152415 0.01787176 0.22088117 0.06872379]\n",
      " [0.14737232 0.63619894 0.02255401 0.10847933 0.08539539]]\n",
      "Pr[H_i|x_i,x_-i], j-th row is for j-th sample and i=positions[j], only showing first 5:\n",
      "[[8.64084416e-02 5.66936866e-01 3.46654692e-01]\n",
      " [2.26199243e-01 5.67049562e-01 2.06751195e-01]\n",
      " [2.44572519e-01 5.56369915e-01 1.99057566e-01]\n",
      " [3.56883238e-01 3.80969056e-01 2.62147706e-01]\n",
      " [8.91195680e-01 1.08804320e-01 1.68987184e-10]]\n"
     ]
    }
   ],
   "source": [
    "seed = 20211018\n",
    "np.random.seed(seed)\n",
    "trans_mat, obs_mat, stat_dist = generate_HMM_params(num_hidden_state, num_obs) # generate parameters for HMM\n",
    "\n",
    "states, obs = generate_HMM_sequences(trans_mat, obs_mat, stat_dist, length, num_samples) # generate sample sequences\n",
    "\n",
    "pos = np.ones(num_samples).astype(int) * (length - 1)\n",
    "\n",
    "print(\"transition matrix\")\n",
    "print(trans_mat)\n",
    "print(\"observation matrix\")\n",
    "print(obs_mat)\n",
    "print(\"stationary distribution\")\n",
    "print(stat_dist)\n",
    "print(\"states and observations, first half of each row is states, only showing first 5: \")\n",
    "print(np.concatenate((states, obs), axis = 1)[:5])\n",
    "print(\"positions, only showing first 5: \", pos[:5])\n",
    "h, x, hh = x_i_conditional_prob(trans_mat, obs_mat, stat_dist, obs, pos)\n",
    "print(\"Pr[H_i|x_-i], j-th row is for j-th sample and i=positions[j], only showing first 5:\")\n",
    "print(h[:5])\n",
    "print(\"Pr[X_i|x_-i], j-th row is for j-th sample and i=positions[j], only showing first 5:\")\n",
    "print(x[:5])\n",
    "print(\"Pr[H_i|x_i,x_-i], j-th row is for j-th sample and i=positions[j], only showing first 5:\")\n",
    "print(hh[:5])"
   ]
  },
  {
   "cell_type": "code",
   "execution_count": 26,
   "metadata": {},
   "outputs": [],
   "source": [
    "obs = obs.astype('long')"
   ]
  },
  {
   "cell_type": "code",
   "execution_count": 37,
   "metadata": {},
   "outputs": [
    {
     "data": {
      "text/plain": [
       "array([[0, 1, 0, ..., 1, 0, 3],\n",
       "       [1, 4, 3, ..., 0, 4, 1],\n",
       "       [3, 1, 1, ..., 1, 1, 1],\n",
       "       ...,\n",
       "       [2, 3, 1, ..., 1, 0, 1],\n",
       "       [1, 1, 3, ..., 1, 1, 1],\n",
       "       [3, 3, 3, ..., 1, 1, 1]])"
      ]
     },
     "execution_count": 37,
     "metadata": {},
     "output_type": "execute_result"
    }
   ],
   "source": [
    "pre_obs, labels = obs[:, :-1], obs[:, -1]"
   ]
  },
  {
   "cell_type": "code",
   "execution_count": 38,
   "metadata": {},
   "outputs": [],
   "source": [
    "features = np.zeros((num_samples, length, num_obs)) # last input will always be 0 since we want to predict the last x"
   ]
  },
  {
   "cell_type": "code",
   "execution_count": 39,
   "metadata": {},
   "outputs": [],
   "source": [
    "for i in range(num_samples):\n",
    "    for j in range(length - 1):\n",
    "        features[i, j, pre_obs[i, j]] = 1"
   ]
  },
  {
   "cell_type": "code",
   "execution_count": 41,
   "metadata": {},
   "outputs": [],
   "source": [
    "from torch import nn\n",
    "from torch.utils import data"
   ]
  },
  {
   "cell_type": "code",
   "execution_count": 83,
   "metadata": {},
   "outputs": [],
   "source": [
    "class SimpleRNN(nn.Module):\n",
    "    def __init__(self, hidden_size):\n",
    "        super(SimpleRNN, self).__init__()\n",
    "        self.hidden_size = hidden_size\n",
    "        self.in2hidden = nn.Sequential(\n",
    "            nn.Linear(num_obs + hidden_size, hidden_size)\n",
    "        )\n",
    "        self.in2output = nn.Sequential(\n",
    "            nn.Linear(num_obs + hidden_size, num_obs)\n",
    "        )\n",
    "    \n",
    "    def forward(self, x, hidden_state):\n",
    "        combined = torch.cat((x, hidden_state), 1)\n",
    "        hidden = torch.sigmoid(self.in2hidden(combined))\n",
    "        output = self.in2output(combined)\n",
    "        return output, hidden\n",
    "    \n",
    "    def init_hidden(self):\n",
    "        return nn.init.kaiming_uniform_(torch.empty(batch_size, self.hidden_size))"
   ]
  },
  {
   "cell_type": "code",
   "execution_count": 84,
   "metadata": {},
   "outputs": [],
   "source": [
    "# Model parameters.\n",
    "lr = 0.01\n",
    "epochs = 1000\n",
    "batch_size = 100\n",
    "hidden_size = 256"
   ]
  },
  {
   "cell_type": "code",
   "execution_count": 85,
   "metadata": {},
   "outputs": [],
   "source": [
    "dataset = data.TensorDataset(torch.FloatTensor(features), torch.LongTensor(labels))\n",
    "train_dl = data.DataLoader(dataset, batch_size=batch_size, shuffle=False)"
   ]
  },
  {
   "cell_type": "code",
   "execution_count": 86,
   "metadata": {},
   "outputs": [],
   "source": [
    "net = SimpleRNN(hidden_size)"
   ]
  },
  {
   "cell_type": "code",
   "execution_count": 87,
   "metadata": {},
   "outputs": [],
   "source": [
    "loss = nn.CrossEntropyLoss()"
   ]
  },
  {
   "cell_type": "code",
   "execution_count": 88,
   "metadata": {},
   "outputs": [],
   "source": [
    "trainer = torch.optim.Adam(net.parameters(), lr=lr)"
   ]
  },
  {
   "cell_type": "code",
   "execution_count": 89,
   "metadata": {},
   "outputs": [
    {
     "name": "stdout",
     "output_type": "stream",
     "text": [
      "epoch:  0\n",
      "loss:  tensor(14.7232, grad_fn=<AddBackward0>)\n",
      "epoch:  10\n",
      "loss:  tensor(12.3436, grad_fn=<AddBackward0>)\n",
      "epoch:  20\n",
      "loss:  tensor(12.3007, grad_fn=<AddBackward0>)\n",
      "epoch:  30\n",
      "loss:  tensor(12.2482, grad_fn=<AddBackward0>)\n",
      "epoch:  40\n",
      "loss:  tensor(12.0958, grad_fn=<AddBackward0>)\n",
      "epoch:  50\n",
      "loss:  tensor(11.6210, grad_fn=<AddBackward0>)\n",
      "epoch:  60\n",
      "loss:  tensor(10.1881, grad_fn=<AddBackward0>)\n",
      "epoch:  70\n",
      "loss:  tensor(7.6043, grad_fn=<AddBackward0>)\n",
      "epoch:  80\n",
      "loss:  tensor(4.2316, grad_fn=<AddBackward0>)\n",
      "epoch:  90\n",
      "loss:  tensor(2.5895, grad_fn=<AddBackward0>)\n",
      "epoch:  100\n",
      "loss:  tensor(1.2167, grad_fn=<AddBackward0>)\n",
      "epoch:  110\n",
      "loss:  tensor(0.9326, grad_fn=<AddBackward0>)\n",
      "epoch:  120\n",
      "loss:  tensor(0.9204, grad_fn=<AddBackward0>)\n",
      "epoch:  130\n",
      "loss:  tensor(0.9161, grad_fn=<AddBackward0>)\n",
      "epoch:  140\n",
      "loss:  tensor(0.7564, grad_fn=<AddBackward0>)\n",
      "epoch:  150\n",
      "loss:  tensor(0.5659, grad_fn=<AddBackward0>)\n",
      "epoch:  160\n",
      "loss:  tensor(0.5376, grad_fn=<AddBackward0>)\n",
      "epoch:  170\n",
      "loss:  tensor(0.5293, grad_fn=<AddBackward0>)\n",
      "epoch:  180\n",
      "loss:  tensor(0.5190, grad_fn=<AddBackward0>)\n",
      "epoch:  190\n",
      "loss:  tensor(0.5118, grad_fn=<AddBackward0>)\n",
      "epoch:  200\n",
      "loss:  tensor(0.5026, grad_fn=<AddBackward0>)\n",
      "epoch:  210\n",
      "loss:  tensor(0.5008, grad_fn=<AddBackward0>)\n",
      "epoch:  220\n",
      "loss:  tensor(0.4973, grad_fn=<AddBackward0>)\n",
      "epoch:  230\n",
      "loss:  tensor(1.3956, grad_fn=<AddBackward0>)\n",
      "epoch:  240\n",
      "loss:  tensor(0.5675, grad_fn=<AddBackward0>)\n",
      "epoch:  250\n",
      "loss:  tensor(0.5477, grad_fn=<AddBackward0>)\n",
      "epoch:  260\n",
      "loss:  tensor(0.4985, grad_fn=<AddBackward0>)\n",
      "epoch:  270\n",
      "loss:  tensor(0.4976, grad_fn=<AddBackward0>)\n",
      "epoch:  280\n",
      "loss:  tensor(0.4872, grad_fn=<AddBackward0>)\n",
      "epoch:  290\n",
      "loss:  tensor(0.4851, grad_fn=<AddBackward0>)\n",
      "epoch:  300\n",
      "loss:  tensor(1.3315, grad_fn=<AddBackward0>)\n",
      "epoch:  310\n",
      "loss:  tensor(0.7076, grad_fn=<AddBackward0>)\n",
      "epoch:  320\n",
      "loss:  tensor(0.6188, grad_fn=<AddBackward0>)\n",
      "epoch:  330\n",
      "loss:  tensor(0.4981, grad_fn=<AddBackward0>)\n",
      "epoch:  340\n",
      "loss:  tensor(0.4836, grad_fn=<AddBackward0>)\n",
      "epoch:  350\n",
      "loss:  tensor(0.5100, grad_fn=<AddBackward0>)\n",
      "epoch:  360\n",
      "loss:  tensor(0.4866, grad_fn=<AddBackward0>)\n",
      "epoch:  370\n",
      "loss:  tensor(0.4783, grad_fn=<AddBackward0>)\n",
      "epoch:  380\n",
      "loss:  tensor(0.7722, grad_fn=<AddBackward0>)\n",
      "epoch:  390\n",
      "loss:  tensor(0.4958, grad_fn=<AddBackward0>)\n",
      "epoch:  400\n",
      "loss:  tensor(0.4853, grad_fn=<AddBackward0>)\n",
      "epoch:  410\n",
      "loss:  tensor(0.4791, grad_fn=<AddBackward0>)\n",
      "epoch:  420\n",
      "loss:  tensor(0.4817, grad_fn=<AddBackward0>)\n",
      "epoch:  430\n",
      "loss:  tensor(0.5550, grad_fn=<AddBackward0>)\n",
      "epoch:  440\n",
      "loss:  tensor(0.4798, grad_fn=<AddBackward0>)\n",
      "epoch:  450\n",
      "loss:  tensor(0.4755, grad_fn=<AddBackward0>)\n",
      "epoch:  460\n",
      "loss:  tensor(0.4721, grad_fn=<AddBackward0>)\n",
      "epoch:  470\n",
      "loss:  tensor(0.4746, grad_fn=<AddBackward0>)\n",
      "epoch:  480\n",
      "loss:  tensor(0.4706, grad_fn=<AddBackward0>)\n",
      "epoch:  490\n",
      "loss:  tensor(0.4716, grad_fn=<AddBackward0>)\n",
      "epoch:  500\n",
      "loss:  tensor(0.4693, grad_fn=<AddBackward0>)\n",
      "epoch:  510\n",
      "loss:  tensor(0.4703, grad_fn=<AddBackward0>)\n",
      "epoch:  520\n",
      "loss:  tensor(0.4682, grad_fn=<AddBackward0>)\n",
      "epoch:  530\n",
      "loss:  tensor(0.4698, grad_fn=<AddBackward0>)\n",
      "epoch:  540\n",
      "loss:  tensor(0.4700, grad_fn=<AddBackward0>)\n",
      "epoch:  550\n",
      "loss:  tensor(0.4681, grad_fn=<AddBackward0>)\n",
      "epoch:  560\n",
      "loss:  tensor(0.4682, grad_fn=<AddBackward0>)\n",
      "epoch:  570\n",
      "loss:  tensor(0.4670, grad_fn=<AddBackward0>)\n",
      "epoch:  580\n",
      "loss:  tensor(0.4665, grad_fn=<AddBackward0>)\n",
      "epoch:  590\n",
      "loss:  tensor(0.4667, grad_fn=<AddBackward0>)\n",
      "epoch:  600\n",
      "loss:  tensor(0.4672, grad_fn=<AddBackward0>)\n",
      "epoch:  610\n",
      "loss:  tensor(0.4668, grad_fn=<AddBackward0>)\n",
      "epoch:  620\n",
      "loss:  tensor(0.4669, grad_fn=<AddBackward0>)\n",
      "epoch:  630\n",
      "loss:  tensor(0.4679, grad_fn=<AddBackward0>)\n",
      "epoch:  640\n",
      "loss:  tensor(0.4656, grad_fn=<AddBackward0>)\n",
      "epoch:  650\n",
      "loss:  tensor(0.4656, grad_fn=<AddBackward0>)\n",
      "epoch:  660\n",
      "loss:  tensor(0.4651, grad_fn=<AddBackward0>)\n",
      "epoch:  670\n",
      "loss:  tensor(3.6152, grad_fn=<AddBackward0>)\n",
      "epoch:  680\n",
      "loss:  tensor(0.5644, grad_fn=<AddBackward0>)\n",
      "epoch:  690\n",
      "loss:  tensor(0.5566, grad_fn=<AddBackward0>)\n",
      "epoch:  700\n",
      "loss:  tensor(0.4986, grad_fn=<AddBackward0>)\n",
      "epoch:  710\n",
      "loss:  tensor(0.4869, grad_fn=<AddBackward0>)\n",
      "epoch:  720\n",
      "loss:  tensor(0.4836, grad_fn=<AddBackward0>)\n",
      "epoch:  730\n",
      "loss:  tensor(0.5055, grad_fn=<AddBackward0>)\n",
      "epoch:  740\n",
      "loss:  tensor(0.4736, grad_fn=<AddBackward0>)\n",
      "epoch:  750\n",
      "loss:  tensor(0.4782, grad_fn=<AddBackward0>)\n",
      "epoch:  760\n",
      "loss:  tensor(0.4728, grad_fn=<AddBackward0>)\n",
      "epoch:  770\n",
      "loss:  tensor(0.4828, grad_fn=<AddBackward0>)\n",
      "epoch:  780\n",
      "loss:  tensor(0.4762, grad_fn=<AddBackward0>)\n",
      "epoch:  790\n",
      "loss:  tensor(0.4745, grad_fn=<AddBackward0>)\n",
      "epoch:  800\n",
      "loss:  tensor(0.7110, grad_fn=<AddBackward0>)\n",
      "epoch:  810\n",
      "loss:  tensor(0.5261, grad_fn=<AddBackward0>)\n",
      "epoch:  820\n",
      "loss:  tensor(0.5992, grad_fn=<AddBackward0>)\n",
      "epoch:  830\n",
      "loss:  tensor(0.9636, grad_fn=<AddBackward0>)\n",
      "epoch:  840\n",
      "loss:  tensor(0.4872, grad_fn=<AddBackward0>)\n",
      "epoch:  850\n",
      "loss:  tensor(0.5103, grad_fn=<AddBackward0>)\n",
      "epoch:  860\n",
      "loss:  tensor(0.4775, grad_fn=<AddBackward0>)\n",
      "epoch:  870\n",
      "loss:  tensor(0.4699, grad_fn=<AddBackward0>)\n",
      "epoch:  880\n",
      "loss:  tensor(0.4716, grad_fn=<AddBackward0>)\n",
      "epoch:  890\n",
      "loss:  tensor(0.5916, grad_fn=<AddBackward0>)\n",
      "epoch:  900\n",
      "loss:  tensor(1.1255, grad_fn=<AddBackward0>)\n",
      "epoch:  910\n",
      "loss:  tensor(0.5105, grad_fn=<AddBackward0>)\n",
      "epoch:  920\n",
      "loss:  tensor(0.4819, grad_fn=<AddBackward0>)\n",
      "epoch:  930\n",
      "loss:  tensor(0.4678, grad_fn=<AddBackward0>)\n",
      "epoch:  940\n",
      "loss:  tensor(0.4732, grad_fn=<AddBackward0>)\n",
      "epoch:  950\n",
      "loss:  tensor(0.4917, grad_fn=<AddBackward0>)\n",
      "epoch:  960\n",
      "loss:  tensor(0.4682, grad_fn=<AddBackward0>)\n",
      "epoch:  970\n",
      "loss:  tensor(0.4663, grad_fn=<AddBackward0>)\n",
      "epoch:  980\n",
      "loss:  tensor(0.4934, grad_fn=<AddBackward0>)\n",
      "epoch:  990\n",
      "loss:  tensor(0.4916, grad_fn=<AddBackward0>)\n"
     ]
    }
   ],
   "source": [
    "total_loss_lst = []\n",
    "for i in range(epochs):\n",
    "    total_loss = 0\n",
    "    for X, Y in train_dl:\n",
    "        hidden_state = net.init_hidden()\n",
    "        for j in range(length):\n",
    "            output, hidden_state = net(X[:, j], hidden_state)\n",
    "        l = loss(output, Y)\n",
    "        total_loss += l\n",
    "        trainer.zero_grad()\n",
    "        l.backward()\n",
    "        trainer.step()\n",
    "    if (i % 10 == 0):\n",
    "        print(\"epoch: \", i)\n",
    "        print(\"loss: \", total_loss)\n",
    "        total_loss_lst.append(total_loss)"
   ]
  },
  {
   "cell_type": "code",
   "execution_count": 92,
   "metadata": {},
   "outputs": [
    {
     "data": {
      "image/png": "[encoded data removed]",
      "text/plain": [
       "<Figure size 432x288 with 1 Axes>"
      ]
     },
     "metadata": {
      "needs_background": "light"
     },
     "output_type": "display_data"
    }
   ],
   "source": [
    "import matplotlib.pyplot as plt\n",
    "x_lst = list(range(0, 1000, 10))\n",
    "plt.plot(x_lst, total_loss_lst)\n",
    "plt.yscale('log')\n",
    "plt.xlabel(\"epochs\")\n",
    "plt.ylabel(\"training loss\")\n",
    "plt.show()"
   ]
  },
  {
   "cell_type": "code",
   "execution_count": 93,
   "metadata": {},
   "outputs": [
    {
     "data": {
      "text/plain": [
       "SimpleRNN(\n",
       "  (in2hidden): Sequential(\n",
       "    (0): Linear(in_features=261, out_features=256, bias=True)\n",
       "  )\n",
       "  (in2output): Sequential(\n",
       "    (0): Linear(in_features=261, out_features=5, bias=True)\n",
       "  )\n",
       ")"
      ]
     },
     "execution_count": 93,
     "metadata": {},
     "output_type": "execute_result"
    }
   ],
   "source": [
    "net.eval()"
   ]
  },
  {
   "cell_type": "code",
   "execution_count": 105,
   "metadata": {},
   "outputs": [
    {
     "name": "stdout",
     "output_type": "stream",
     "text": [
      "tensor([[ -2.4785,  10.6795, -29.7537, -13.4525,  -8.9671],\n",
      "        [ -2.8479,   9.2362,  -3.9544, -15.7425,  -2.3572],\n",
      "        [ -4.4779,   8.1171, -30.8979,  -1.5834, -10.5022],\n",
      "        [ -8.5444,   2.4791,   8.1376,  -5.5507,   0.5613],\n",
      "        [-10.9735,   0.1292, -25.4456,   9.8268,  -9.6339],\n",
      "        [-10.4013,  12.6164, -12.2187,  -7.8498, -11.3978],\n",
      "        [ -1.6965,  -0.3629, -20.5261,   7.5045,  -8.4734],\n",
      "        [ -3.8124,  -4.8164,  -9.6353,   6.0021,  -2.3333],\n",
      "        [ -5.2684,   4.2564,  -7.9998,  -2.9044,  -5.1460],\n",
      "        [ -1.2091,  -3.8901, -34.6399,  12.5897, -14.0428]],\n",
      "       grad_fn=<SliceBackward>)\n",
      "tensor([[1.9299e-06, 1.0000e+00, 2.7546e-18, 3.3082e-11, 2.9348e-09],\n",
      "        [5.6485e-06, 9.9998e-01, 1.8680e-06, 1.4186e-11, 9.2261e-06],\n",
      "        [3.3886e-06, 9.9994e-01, 1.1375e-17, 6.1249e-05, 8.1981e-09],\n",
      "        [5.6670e-08, 3.4738e-03, 9.9601e-01, 1.1311e-06, 5.1042e-04],\n",
      "        [9.2578e-10, 6.1425e-05, 4.8011e-16, 9.9994e-01, 3.5342e-09],\n",
      "        [1.0082e-10, 1.0000e+00, 1.6378e-11, 1.2932e-09, 3.7223e-11],\n",
      "        [1.0088e-04, 3.8283e-04, 6.7024e-13, 9.9952e-01, 1.1499e-07],\n",
      "        [5.4635e-05, 2.0020e-05, 1.6166e-07, 9.9969e-01, 2.3981e-04],\n",
      "        [7.2949e-05, 9.9906e-01, 4.7509e-06, 7.7567e-04, 8.2444e-05],\n",
      "        [1.0169e-06, 6.9654e-08, 3.0792e-21, 1.0000e+00, 2.7145e-12]],\n",
      "       grad_fn=<SliceBackward>)\n",
      "tensor([1, 1, 1, 2, 3, 1, 3, 3, 1, 3])\n"
     ]
    }
   ],
   "source": [
    "for X, Y in train_dl:\n",
    "    hidden_state = net.init_hidden()\n",
    "    for j in range(length):\n",
    "        output, hidden_state = net(X[:, j], hidden_state)\n",
    "    print(output[:10])\n",
    "    m = nn.Softmax(dim = 1)\n",
    "    print(m(output)[:10])\n",
    "    print(Y[:10])\n",
    "    break"
   ]
  },
  {
   "cell_type": "code",
   "execution_count": 106,
   "metadata": {},
   "outputs": [
    {
     "name": "stdout",
     "output_type": "stream",
     "text": [
      "transition matrix:\n",
      "[[0.19038151 0.5603291  0.24928939]\n",
      " [0.59211519 0.37810341 0.0297814 ]\n",
      " [0.52737761 0.34205379 0.1305686 ]]\n",
      "observation matrix:\n",
      "[[2.84422161e-01 2.51497236e-01 1.31816210e-02 4.38026768e-01\n",
      "  1.28722143e-02]\n",
      " [1.50940815e-01 6.59969385e-01 1.64551320e-02 2.15946003e-02\n",
      "  1.51040067e-01]\n",
      " [9.01408117e-03 9.45219115e-01 4.57668030e-02 7.87716140e-11\n",
      "  4.61558184e-10]]\n",
      "stationary distribution:\n",
      "[0.41619456 0.44908825 0.1347172 ]\n",
      "states and observations, first half of each row is states, only showing first 5:\n",
      "[[1. 0. 2. 2. 0. 0. 2. 2. 0. 1. 4. 3. 1. 1. 3. 1. 1. 1. 3. 4.]\n",
      " [2. 1. 0. 0. 2. 1. 1. 0. 1. 0. 1. 1. 0. 0. 1. 4. 4. 1. 4. 0.]\n",
      " [1. 0. 0. 1. 2. 1. 1. 1. 1. 0. 1. 0. 3. 0. 1. 1. 1. 1. 1. 1.]\n",
      " [1. 1. 1. 1. 0. 1. 0. 1. 1. 0. 1. 3. 1. 1. 3. 1. 1. 0. 1. 3.]\n",
      " [1. 0. 1. 0. 1. 1. 0. 0. 1. 2. 4. 3. 0. 1. 0. 1. 1. 0. 2. 1.]]\n",
      "positions, only showing first 5:  [0 6 9 3 5]\n",
      "Pr[H_i|x_-i], j-th row is for j-th sample and i=positions[j], only showing first 5:\n",
      "[[0.20310978 0.62881966 0.16807056]\n",
      " [0.62262926 0.33106724 0.0463035 ]\n",
      " [0.48084875 0.41557025 0.10358101]\n",
      " [0.2916593  0.59293973 0.11540097]\n",
      " [0.42694635 0.40522244 0.16783121]]\n",
      "Pr[X_i|x_-i], j-th row is for j-th sample and i=positions[j], only showing first 5:\n",
      "[[0.15419848 0.62494678 0.02071668 0.10254663 0.09759144]\n",
      " [0.2274785  0.41885073 0.01577418 0.27987755 0.05801903]\n",
      " [0.20042424 0.49310252 0.0179172  0.2195987  0.06895735]\n",
      " [0.17349341 0.57375278 0.01888298 0.14055888 0.09331196]\n",
      " [0.18411045 0.5334475  0.01997693 0.19576455 0.06670057]]\n",
      "Pr[H_i|x_i,x_-i], j-th row is for j-th sample and i=positions[j], only showing first 5:\n",
      "[[2.67899806e-02 9.73210019e-01 7.94888826e-10]\n",
      " [1.38137722e-01 8.61862278e-01 3.68357749e-10]\n",
      " [2.45247441e-01 5.56200042e-01 1.98552517e-01]\n",
      " [1.27845144e-01 6.82039516e-01 1.90115340e-01]\n",
      " [2.01286586e-01 5.01332191e-01 2.97381223e-01]]\n"
     ]
    }
   ],
   "source": [
    "states, obs = generate_HMM_sequences(trans_mat, obs_mat, stat_dist, length, num_samples) # generate sample sequences\n",
    "\n",
    "pos = np.random.randint(length, size = num_samples)\n",
    "\n",
    "print(\"transition matrix:\")\n",
    "print(trans_mat)\n",
    "print(\"observation matrix:\")\n",
    "print(obs_mat)\n",
    "print(\"stationary distribution:\")\n",
    "print(stat_dist)\n",
    "print(\"states and observations, first half of each row is states, only showing first 5:\")\n",
    "print(np.concatenate((states, obs), axis = 1)[:5])\n",
    "print(\"positions, only showing first 5: \", pos[:5])\n",
    "h, x, hh = x_i_conditional_prob(trans_mat, obs_mat, stat_dist, obs, pos)\n",
    "print(\"Pr[H_i|x_-i], j-th row is for j-th sample and i=positions[j], only showing first 5:\")\n",
    "print(h[:5])\n",
    "print(\"Pr[X_i|x_-i], j-th row is for j-th sample and i=positions[j], only showing first 5:\")\n",
    "print(x[:5])\n",
    "print(\"Pr[H_i|x_i,x_-i], j-th row is for j-th sample and i=positions[j], only showing first 5:\")\n",
    "print(hh[:5])"
   ]
  },
  {
   "cell_type": "code",
   "execution_count": 107,
   "metadata": {},
   "outputs": [],
   "source": [
    "obs = obs.astype('long')"
   ]
  },
  {
   "cell_type": "code",
   "execution_count": 108,
   "metadata": {},
   "outputs": [],
   "source": [
    "pre_obs, labels = obs[:, :-1], obs[:, -1]"
   ]
  },
  {
   "cell_type": "code",
   "execution_count": 109,
   "metadata": {},
   "outputs": [],
   "source": [
    "features = np.zeros((num_samples, length, num_obs))"
   ]
  },
  {
   "cell_type": "code",
   "execution_count": 110,
   "metadata": {},
   "outputs": [],
   "source": [
    "for i in range(num_samples):\n",
    "    for j in range(length - 1):\n",
    "        features[i, j, pre_obs[i, j]] = 1"
   ]
  },
  {
   "cell_type": "code",
   "execution_count": 114,
   "metadata": {},
   "outputs": [],
   "source": [
    "test_dataset = data.TensorDataset(torch.FloatTensor(features), torch.LongTensor(labels))\n",
    "test_dl = torch.utils.data.DataLoader(test_dataset, batch_size=batch_size, shuffle=False)"
   ]
  },
  {
   "cell_type": "code",
   "execution_count": 133,
   "metadata": {},
   "outputs": [
    {
     "name": "stdout",
     "output_type": "stream",
     "text": [
      "tensor(54.8504, grad_fn=<AddBackward0>)\n",
      "tensor(0.3930)\n"
     ]
    }
   ],
   "source": [
    "total_loss = 0\n",
    "num_correct = 0\n",
    "for X, Y in test_dl:\n",
    "    hidden_state = net.init_hidden()\n",
    "    for j in range(length):\n",
    "        output, hidden_state = net(X[:, j], hidden_state)\n",
    "    l = loss(output, Y)\n",
    "    total_loss += l\n",
    "    #m = nn.Softmax(dim = 1)\n",
    "    #print(m(output)[:1])\n",
    "    #print(Y[:1])\n",
    "    tmp = torch.argmax(output, dim = 1)\n",
    "    num_correct += torch.sum((tmp == Y))\n",
    "print(total_loss)\n",
    "print(num_correct.float() / num_samples)"
   ]
  },
  {
   "cell_type": "code",
   "execution_count": null,
   "metadata": {},
   "outputs": [],
   "source": []
  }
 ],
 "metadata": {
  "kernelspec": {
   "display_name": "Python 3",
   "language": "python",
   "name": "python3"
  },
  "language_info": {
   "codemirror_mode": {
    "name": "ipython",
    "version": 3
   },
   "file_extension": ".py",
   "mimetype": "text/x-python",
   "name": "python",
   "nbconvert_exporter": "python",
   "pygments_lexer": "ipython3",
   "version": "3.7.2"
  }
 },
 "nbformat": 4,
 "nbformat_minor": 4
}
